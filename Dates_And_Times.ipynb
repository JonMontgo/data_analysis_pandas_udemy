{
 "cells": [
  {
   "cell_type": "markdown",
   "id": "94e7d9cc-9bc2-4f2a-8e67-d20e71afc9ef",
   "metadata": {},
   "source": [
    "# Working with Dates and Times"
   ]
  },
  {
   "cell_type": "code",
   "execution_count": 2,
   "id": "4230b4b6-4b03-4db7-8cb8-6b0ff6519612",
   "metadata": {},
   "outputs": [],
   "source": [
    "import pandas as pd\n",
    "import datetime as dt"
   ]
  },
  {
   "cell_type": "markdown",
   "id": "1ed3c782-2cfe-4767-800f-7f3e4d0b6710",
   "metadata": {},
   "source": [
    "## The Timestamp and DatetimeIndex Objects\n",
    "- Pandas ships with several classes related to datetimes.\n",
    "- The **Timestamp** similar to `datetime` but more stuff\n",
    "- **DatetimeIndex** is an index of **Timestamp** objects\n",
    "- Timestamp constructor will take props of datetime or a datetime obj"
   ]
  },
  {
   "cell_type": "code",
   "execution_count": 3,
   "id": "1141b84d-b128-49b0-8b4c-26c4e444c238",
   "metadata": {},
   "outputs": [
    {
     "data": {
      "text/plain": [
       "Timestamp('2027-03-12 00:00:00')"
      ]
     },
     "execution_count": 3,
     "metadata": {},
     "output_type": "execute_result"
    }
   ],
   "source": [
    "pd.Timestamp(2027, 3, 12)"
   ]
  },
  {
   "cell_type": "code",
   "execution_count": 4,
   "id": "06cb1f43-701c-4a52-8450-f95d677e50dd",
   "metadata": {},
   "outputs": [
    {
     "data": {
      "text/plain": [
       "Timestamp('2027-03-12 18:23:49')"
      ]
     },
     "execution_count": 4,
     "metadata": {},
     "output_type": "execute_result"
    }
   ],
   "source": [
    "pd.Timestamp(2027, 3, 12, 18, 23, 49)"
   ]
  },
  {
   "cell_type": "code",
   "execution_count": 5,
   "id": "07177c9e-b3fe-4e85-8eae-ae416b91ec92",
   "metadata": {},
   "outputs": [
    {
     "data": {
      "text/plain": [
       "Timestamp('2028-10-23 00:00:00')"
      ]
     },
     "execution_count": 5,
     "metadata": {},
     "output_type": "execute_result"
    }
   ],
   "source": [
    "pd.Timestamp(dt.date(2028, 10, 23))"
   ]
  },
  {
   "cell_type": "code",
   "execution_count": 6,
   "id": "3584a194-1507-4de0-a502-a4c18d7b73bc",
   "metadata": {},
   "outputs": [
    {
     "data": {
      "text/plain": [
       "Timestamp('2025-01-01 00:00:00')"
      ]
     },
     "execution_count": 6,
     "metadata": {},
     "output_type": "execute_result"
    }
   ],
   "source": [
    "pd.Timestamp(\"2025-01-01\")"
   ]
  },
  {
   "cell_type": "code",
   "execution_count": 7,
   "id": "f89502a8-b357-43b9-b7f7-9235032ca4d5",
   "metadata": {},
   "outputs": [
    {
     "data": {
      "text/plain": [
       "0   2021-03-08 08:35:15\n",
       "dtype: datetime64[ns]"
      ]
     },
     "execution_count": 7,
     "metadata": {},
     "output_type": "execute_result"
    }
   ],
   "source": [
    "pd.Series([pd.Timestamp(\"2021-03-08 08:35:15\")])"
   ]
  },
  {
   "cell_type": "code",
   "execution_count": 8,
   "id": "7fca9719-a2f0-4668-b8f3-2e85d4b69bdf",
   "metadata": {},
   "outputs": [
    {
     "data": {
      "text/plain": [
       "Timestamp('2021-03-08 08:35:15')"
      ]
     },
     "execution_count": 8,
     "metadata": {},
     "output_type": "execute_result"
    }
   ],
   "source": [
    "pd.Series([pd.Timestamp(\"2021-03-08 08:35:15\")]).iloc[0] # Series says datetime but at pos is Timestamp"
   ]
  },
  {
   "cell_type": "code",
   "execution_count": 9,
   "id": "857fd9fa-d411-4ca1-a0af-71fb8001e6a3",
   "metadata": {},
   "outputs": [
    {
     "data": {
      "text/plain": [
       "DatetimeIndex(['2025-01-01', '2025-02-01'], dtype='datetime64[ns]', freq=None)"
      ]
     },
     "execution_count": 9,
     "metadata": {},
     "output_type": "execute_result"
    }
   ],
   "source": [
    "pd.DatetimeIndex([\"2025-01-01\", \"2025-02-01\"])"
   ]
  },
  {
   "cell_type": "code",
   "execution_count": 10,
   "id": "ff47a163-8c1b-413b-9850-837737f57d86",
   "metadata": {},
   "outputs": [
    {
     "data": {
      "text/plain": [
       "Timestamp('2025-01-01 00:00:00')"
      ]
     },
     "execution_count": 10,
     "metadata": {},
     "output_type": "execute_result"
    }
   ],
   "source": [
    "pd.DatetimeIndex([\"2025-01-01\", \"2025-02-01\"])[0]"
   ]
  },
  {
   "cell_type": "markdown",
   "id": "2c452b99-2b7e-49d4-84d6-ff11b74ee148",
   "metadata": {},
   "source": [
    "## Create Range of Dates with pd.date_range Function\n",
    "- The `date_range` func returns a **DatetimeIndex** holding a sequence of dates\n",
    "- The func requires 2 of 3 params: `start`, `end` and `period`\n",
    "- with `start` and `end` pandas will assume a daily interval/period\n",
    "- Every elem in **DatetimeIndex** is a **Timestamp**"
   ]
  },
  {
   "cell_type": "code",
   "execution_count": 11,
   "id": "3f87a5be-73d5-4d64-8697-5037fa022a88",
   "metadata": {},
   "outputs": [
    {
     "data": {
      "text/plain": [
       "DatetimeIndex(['2021-03-01', '2021-03-02', '2021-03-03', '2021-03-04',\n",
       "               '2021-03-05', '2021-03-06', '2021-03-07', '2021-03-08',\n",
       "               '2021-03-09', '2021-03-10', '2021-03-11', '2021-03-12',\n",
       "               '2021-03-13', '2021-03-14', '2021-03-15', '2021-03-16',\n",
       "               '2021-03-17', '2021-03-18', '2021-03-19', '2021-03-20',\n",
       "               '2021-03-21', '2021-03-22', '2021-03-23', '2021-03-24',\n",
       "               '2021-03-25'],\n",
       "              dtype='datetime64[ns]', freq='D')"
      ]
     },
     "execution_count": 11,
     "metadata": {},
     "output_type": "execute_result"
    }
   ],
   "source": [
    "pd.date_range(\"2021-03-01\", \"2021-03-25\")"
   ]
  },
  {
   "cell_type": "code",
   "execution_count": 16,
   "id": "e3136418-376b-4b9c-bab9-1f74b21dd089",
   "metadata": {},
   "outputs": [
    {
     "data": {
      "text/plain": [
       "DatetimeIndex(['2021-03-01', '2021-03-03', '2021-03-05', '2021-03-07',\n",
       "               '2021-03-09', '2021-03-11', '2021-03-13', '2021-03-15',\n",
       "               '2021-03-17', '2021-03-19', '2021-03-21', '2021-03-23',\n",
       "               '2021-03-25'],\n",
       "              dtype='datetime64[ns]', freq='2D')"
      ]
     },
     "execution_count": 16,
     "metadata": {},
     "output_type": "execute_result"
    }
   ],
   "source": [
    "pd.date_range(start=\"2021-03-01\", end=\"2021-03-25\", freq=\"2D\")"
   ]
  },
  {
   "cell_type": "code",
   "execution_count": 17,
   "id": "d7aec319-323c-4848-96ee-e67492b8bb25",
   "metadata": {},
   "outputs": [
    {
     "data": {
      "text/plain": [
       "DatetimeIndex(['2021-03-01', '2021-03-02', '2021-03-03', '2021-03-04',\n",
       "               '2021-03-05', '2021-03-08', '2021-03-09', '2021-03-10',\n",
       "               '2021-03-11', '2021-03-12', '2021-03-15', '2021-03-16',\n",
       "               '2021-03-17', '2021-03-18', '2021-03-19', '2021-03-22',\n",
       "               '2021-03-23', '2021-03-24', '2021-03-25'],\n",
       "              dtype='datetime64[ns]', freq='B')"
      ]
     },
     "execution_count": 17,
     "metadata": {},
     "output_type": "execute_result"
    }
   ],
   "source": [
    "pd.date_range(\"2021-03-01\", \"2021-03-25\", freq=\"B\") # Buisiness Days"
   ]
  },
  {
   "cell_type": "code",
   "execution_count": 18,
   "id": "76215c22-f0a7-4d24-92e5-ead524b9fff8",
   "metadata": {},
   "outputs": [
    {
     "data": {
      "text/plain": [
       "DatetimeIndex(['2021-03-01 00:00:00', '2021-03-01 02:00:00',\n",
       "               '2021-03-01 04:00:00', '2021-03-01 06:00:00',\n",
       "               '2021-03-01 08:00:00', '2021-03-01 10:00:00',\n",
       "               '2021-03-01 12:00:00', '2021-03-01 14:00:00',\n",
       "               '2021-03-01 16:00:00', '2021-03-01 18:00:00',\n",
       "               '2021-03-01 20:00:00', '2021-03-01 22:00:00'],\n",
       "              dtype='datetime64[ns]', freq='2h')"
      ]
     },
     "execution_count": 18,
     "metadata": {},
     "output_type": "execute_result"
    }
   ],
   "source": [
    "pd.date_range(\"2021-03-01 00:00\", \"2021-03-01 23:00:00\", freq=\"2h\")"
   ]
  },
  {
   "cell_type": "code",
   "execution_count": 20,
   "id": "2675843a-e9b6-4754-b1f6-ae99b43c881b",
   "metadata": {},
   "outputs": [
    {
     "data": {
      "text/plain": [
       "DatetimeIndex(['2021-03-05', '2021-03-12', '2021-03-19', '2021-03-26',\n",
       "               '2021-04-02', '2021-04-09', '2021-04-16', '2021-04-23'],\n",
       "              dtype='datetime64[ns]', freq='W-FRI')"
      ]
     },
     "execution_count": 20,
     "metadata": {},
     "output_type": "execute_result"
    }
   ],
   "source": [
    "pd.date_range(\"2021-03-01\", \"2021-04-25\", freq=\"W-FRI\")"
   ]
  },
  {
   "cell_type": "code",
   "execution_count": 21,
   "id": "53dac34f-6f79-4729-8bb1-9c07644bc1d9",
   "metadata": {},
   "outputs": [
    {
     "data": {
      "text/plain": [
       "DatetimeIndex(['2021-01-31', '2021-02-28', '2021-03-31', '2021-04-30',\n",
       "               '2021-05-31', '2021-06-30', '2021-07-31', '2021-08-31',\n",
       "               '2021-09-30', '2021-10-31', '2021-11-30', '2021-12-31'],\n",
       "              dtype='datetime64[ns]', freq='ME')"
      ]
     },
     "execution_count": 21,
     "metadata": {},
     "output_type": "execute_result"
    }
   ],
   "source": [
    "pd.date_range(\"2021-01-01\", \"2022-01-01\", freq=\"ME\")"
   ]
  },
  {
   "cell_type": "code",
   "execution_count": 23,
   "id": "2bcf60b6-24e2-44fa-a69e-b7bcfbb3a3e5",
   "metadata": {},
   "outputs": [
    {
     "data": {
      "text/plain": [
       "DatetimeIndex(['2021-12-31', '2022-12-31', '2023-12-31', '2024-12-31',\n",
       "               '2025-12-31', '2026-12-31', '2027-12-31', '2028-12-31',\n",
       "               '2029-12-31', '2030-12-31', '2031-12-31', '2032-12-31',\n",
       "               '2033-12-31', '2034-12-31', '2035-12-31', '2036-12-31',\n",
       "               '2037-12-31', '2038-12-31', '2039-12-31', '2040-12-31',\n",
       "               '2041-12-31', '2042-12-31', '2043-12-31', '2044-12-31',\n",
       "               '2045-12-31', '2046-12-31', '2047-12-31', '2048-12-31',\n",
       "               '2049-12-31'],\n",
       "              dtype='datetime64[ns]', freq='YE-DEC')"
      ]
     },
     "execution_count": 23,
     "metadata": {},
     "output_type": "execute_result"
    }
   ],
   "source": [
    "pd.date_range(\"2021-01-01\", \"2050-01-01\", freq=\"YE\")"
   ]
  },
  {
   "cell_type": "code",
   "execution_count": 24,
   "id": "076383ba-9899-48ae-8667-9084bf56baee",
   "metadata": {},
   "outputs": [
    {
     "data": {
      "text/plain": [
       "DatetimeIndex(['2012-09-09', '2012-09-10', '2012-09-11', '2012-09-12',\n",
       "               '2012-09-13', '2012-09-14', '2012-09-15', '2012-09-16',\n",
       "               '2012-09-17', '2012-09-18', '2012-09-19', '2012-09-20',\n",
       "               '2012-09-21', '2012-09-22', '2012-09-23', '2012-09-24',\n",
       "               '2012-09-25', '2012-09-26', '2012-09-27', '2012-09-28',\n",
       "               '2012-09-29', '2012-09-30', '2012-10-01', '2012-10-02',\n",
       "               '2012-10-03'],\n",
       "              dtype='datetime64[ns]', freq='D')"
      ]
     },
     "execution_count": 24,
     "metadata": {},
     "output_type": "execute_result"
    }
   ],
   "source": [
    "pd.date_range(start=\"2012-09-09\", freq=\"D\", periods=25)"
   ]
  },
  {
   "cell_type": "markdown",
   "id": "fd39073b-22ab-41fb-9604-a89f780235f6",
   "metadata": {},
   "source": [
    "## The dt attribute\n",
    "- dt prop is of type DatetimeProperties with some attributes/methods to work with datetime\n",
    "- The DatetimeProperties object has attributes like day month and year to reveal info about each date in series\n",
    "- day_name written day of the week\n",
    "- is_month_end and is_quarter_start return boolean series"
   ]
  },
  {
   "cell_type": "code",
   "execution_count": 27,
   "id": "34ba4d5d-6faa-4bae-b5fc-bf935414ca21",
   "metadata": {},
   "outputs": [],
   "source": [
    "bunch_dates = pd.Series(pd.date_range(start=\"2000-01-01\", end=\"2020-12-31\", freq=\"24D 3h\"))"
   ]
  },
  {
   "cell_type": "code",
   "execution_count": 30,
   "id": "709e509d-2401-4986-804e-a51058d6d57d",
   "metadata": {},
   "outputs": [
    {
     "data": {
      "text/plain": [
       "0      5\n",
       "1      1\n",
       "2      4\n",
       "3      0\n",
       "4      3\n",
       "      ..\n",
       "313    3\n",
       "314    6\n",
       "315    2\n",
       "316    5\n",
       "317    1\n",
       "Length: 318, dtype: int32"
      ]
     },
     "execution_count": 30,
     "metadata": {},
     "output_type": "execute_result"
    }
   ],
   "source": [
    "bunch_dates.dt.day_of_week"
   ]
  },
  {
   "cell_type": "code",
   "execution_count": 31,
   "id": "25d4cfd0-e88a-4d47-a372-1483feacfc6b",
   "metadata": {},
   "outputs": [
    {
     "data": {
      "text/plain": [
       "0       1\n",
       "1      25\n",
       "2      18\n",
       "3      13\n",
       "4       6\n",
       "       ..\n",
       "313     3\n",
       "314    27\n",
       "315    21\n",
       "316    14\n",
       "317     8\n",
       "Length: 318, dtype: int32"
      ]
     },
     "execution_count": 31,
     "metadata": {},
     "output_type": "execute_result"
    }
   ],
   "source": [
    "bunch_dates.dt.day"
   ]
  },
  {
   "cell_type": "code",
   "execution_count": 33,
   "id": "4b7fad77-7c03-43ac-b609-13892e72d64a",
   "metadata": {},
   "outputs": [
    {
     "data": {
      "text/plain": [
       "0       Saturday\n",
       "1        Tuesday\n",
       "2         Friday\n",
       "3         Monday\n",
       "4       Thursday\n",
       "         ...    \n",
       "313     Thursday\n",
       "314       Sunday\n",
       "315    Wednesday\n",
       "316     Saturday\n",
       "317      Tuesday\n",
       "Length: 318, dtype: object"
      ]
     },
     "execution_count": 33,
     "metadata": {},
     "output_type": "execute_result"
    }
   ],
   "source": [
    "bunch_dates.dt.day_name()"
   ]
  },
  {
   "cell_type": "code",
   "execution_count": 35,
   "id": "2b1efa6e-d8d0-4781-be1d-01c904609821",
   "metadata": {},
   "outputs": [
    {
     "data": {
      "text/plain": [
       "False    308\n",
       "True      10\n",
       "Name: count, dtype: int64"
      ]
     },
     "execution_count": 35,
     "metadata": {},
     "output_type": "execute_result"
    }
   ],
   "source": [
    "bunch_dates.dt.is_month_start.value_counts()"
   ]
  },
  {
   "cell_type": "code",
   "execution_count": 36,
   "id": "2ef6046d-d791-4ce3-9809-6e072b5748f1",
   "metadata": {},
   "outputs": [
    {
     "data": {
      "text/plain": [
       "0     2000-01-01 00:00:00\n",
       "106   2007-01-01 06:00:00\n",
       "212   2014-01-01 12:00:00\n",
       "299   2019-10-01 09:00:00\n",
       "dtype: datetime64[ns]"
      ]
     },
     "execution_count": 36,
     "metadata": {},
     "output_type": "execute_result"
    }
   ],
   "source": [
    "bunch_dates[bunch_dates.dt.is_quarter_start]"
   ]
  },
  {
   "cell_type": "markdown",
   "id": "1a362e9f-bcca-4600-9aa0-833fa9776109",
   "metadata": {},
   "source": [
    "## Selecting Rows from a DataFrame with a DateTimeIndex\n",
    "- The iloc accessor is available for index podition-based extraction\n",
    "- loc accepts strings to get timestamp by lavel/ value.dt objects will not work\n",
    "- list slicing can be used"
   ]
  },
  {
   "cell_type": "code",
   "execution_count": 43,
   "id": "7aa994c0-fd45-41ca-b61e-f0182380b1af",
   "metadata": {},
   "outputs": [
    {
     "data": {
      "text/html": [
       "<div>\n",
       "<style scoped>\n",
       "    .dataframe tbody tr th:only-of-type {\n",
       "        vertical-align: middle;\n",
       "    }\n",
       "\n",
       "    .dataframe tbody tr th {\n",
       "        vertical-align: top;\n",
       "    }\n",
       "\n",
       "    .dataframe thead th {\n",
       "        text-align: right;\n",
       "    }\n",
       "</style>\n",
       "<table border=\"1\" class=\"dataframe\">\n",
       "  <thead>\n",
       "    <tr style=\"text-align: right;\">\n",
       "      <th></th>\n",
       "      <th>Open</th>\n",
       "      <th>High</th>\n",
       "      <th>Low</th>\n",
       "      <th>Close</th>\n",
       "      <th>Volume</th>\n",
       "    </tr>\n",
       "    <tr>\n",
       "      <th>Date</th>\n",
       "      <th></th>\n",
       "      <th></th>\n",
       "      <th></th>\n",
       "      <th></th>\n",
       "      <th></th>\n",
       "    </tr>\n",
       "  </thead>\n",
       "  <tbody>\n",
       "    <tr>\n",
       "      <th>1962-01-02</th>\n",
       "      <td>5.04610</td>\n",
       "      <td>5.04610</td>\n",
       "      <td>4.98716</td>\n",
       "      <td>4.98716</td>\n",
       "      <td>5.935630e+05</td>\n",
       "    </tr>\n",
       "    <tr>\n",
       "      <th>1962-01-03</th>\n",
       "      <td>4.98716</td>\n",
       "      <td>5.03292</td>\n",
       "      <td>4.98716</td>\n",
       "      <td>5.03292</td>\n",
       "      <td>4.451750e+05</td>\n",
       "    </tr>\n",
       "    <tr>\n",
       "      <th>1962-01-04</th>\n",
       "      <td>5.03292</td>\n",
       "      <td>5.03292</td>\n",
       "      <td>4.98052</td>\n",
       "      <td>4.98052</td>\n",
       "      <td>3.995136e+05</td>\n",
       "    </tr>\n",
       "    <tr>\n",
       "      <th>1962-01-05</th>\n",
       "      <td>4.97389</td>\n",
       "      <td>4.97389</td>\n",
       "      <td>4.87511</td>\n",
       "      <td>4.88166</td>\n",
       "      <td>5.593215e+05</td>\n",
       "    </tr>\n",
       "    <tr>\n",
       "      <th>1962-01-08</th>\n",
       "      <td>4.88166</td>\n",
       "      <td>4.88166</td>\n",
       "      <td>4.75059</td>\n",
       "      <td>4.78972</td>\n",
       "      <td>8.332738e+05</td>\n",
       "    </tr>\n",
       "    <tr>\n",
       "      <th>...</th>\n",
       "      <td>...</td>\n",
       "      <td>...</td>\n",
       "      <td>...</td>\n",
       "      <td>...</td>\n",
       "      <td>...</td>\n",
       "    </tr>\n",
       "    <tr>\n",
       "      <th>2023-10-05</th>\n",
       "      <td>140.90000</td>\n",
       "      <td>141.70000</td>\n",
       "      <td>140.19000</td>\n",
       "      <td>141.52000</td>\n",
       "      <td>3.223910e+06</td>\n",
       "    </tr>\n",
       "    <tr>\n",
       "      <th>2023-10-06</th>\n",
       "      <td>141.40000</td>\n",
       "      <td>142.94000</td>\n",
       "      <td>140.11000</td>\n",
       "      <td>142.03000</td>\n",
       "      <td>3.511347e+06</td>\n",
       "    </tr>\n",
       "    <tr>\n",
       "      <th>2023-10-09</th>\n",
       "      <td>142.30000</td>\n",
       "      <td>142.40000</td>\n",
       "      <td>140.68000</td>\n",
       "      <td>142.20000</td>\n",
       "      <td>2.354396e+06</td>\n",
       "    </tr>\n",
       "    <tr>\n",
       "      <th>2023-10-10</th>\n",
       "      <td>142.60000</td>\n",
       "      <td>143.41500</td>\n",
       "      <td>141.72000</td>\n",
       "      <td>142.11000</td>\n",
       "      <td>3.015784e+06</td>\n",
       "    </tr>\n",
       "    <tr>\n",
       "      <th>2023-10-11</th>\n",
       "      <td>142.51000</td>\n",
       "      <td>143.34000</td>\n",
       "      <td>142.14000</td>\n",
       "      <td>143.23000</td>\n",
       "      <td>2.511459e+06</td>\n",
       "    </tr>\n",
       "  </tbody>\n",
       "</table>\n",
       "<p>15546 rows × 5 columns</p>\n",
       "</div>"
      ],
      "text/plain": [
       "                 Open       High        Low      Close        Volume\n",
       "Date                                                                \n",
       "1962-01-02    5.04610    5.04610    4.98716    4.98716  5.935630e+05\n",
       "1962-01-03    4.98716    5.03292    4.98716    5.03292  4.451750e+05\n",
       "1962-01-04    5.03292    5.03292    4.98052    4.98052  3.995136e+05\n",
       "1962-01-05    4.97389    4.97389    4.87511    4.88166  5.593215e+05\n",
       "1962-01-08    4.88166    4.88166    4.75059    4.78972  8.332738e+05\n",
       "...               ...        ...        ...        ...           ...\n",
       "2023-10-05  140.90000  141.70000  140.19000  141.52000  3.223910e+06\n",
       "2023-10-06  141.40000  142.94000  140.11000  142.03000  3.511347e+06\n",
       "2023-10-09  142.30000  142.40000  140.68000  142.20000  2.354396e+06\n",
       "2023-10-10  142.60000  143.41500  141.72000  142.11000  3.015784e+06\n",
       "2023-10-11  142.51000  143.34000  142.14000  143.23000  2.511459e+06\n",
       "\n",
       "[15546 rows x 5 columns]"
      ]
     },
     "execution_count": 43,
     "metadata": {},
     "output_type": "execute_result"
    }
   ],
   "source": [
    "stocks_df = pd.read_csv(\"ibm.csv\", parse_dates=[\"Date\"], index_col=\"Date\").sort_index()\n",
    "stocks = stocks_df.copy()\n",
    "stocks"
   ]
  },
  {
   "cell_type": "code",
   "execution_count": 44,
   "id": "9edec1c0-469a-4b35-affb-15cc774868fb",
   "metadata": {},
   "outputs": [
    {
     "data": {
      "text/plain": [
       "Open           3.561240\n",
       "High           3.574410\n",
       "Low            3.554500\n",
       "Close          3.561240\n",
       "Volume    536491.781438\n",
       "Name: 1963-03-12 00:00:00, dtype: float64"
      ]
     },
     "execution_count": 44,
     "metadata": {},
     "output_type": "execute_result"
    }
   ],
   "source": [
    "stocks.iloc[300]"
   ]
  },
  {
   "cell_type": "code",
   "execution_count": 45,
   "id": "a6193f7b-0a2d-488c-b332-30a03f7ec810",
   "metadata": {},
   "outputs": [
    {
     "data": {
      "text/plain": [
       "Open          142.440\n",
       "High          142.498\n",
       "Low           140.010\n",
       "Close         141.110\n",
       "Volume    2866648.000\n",
       "Name: 2023-01-05 00:00:00, dtype: float64"
      ]
     },
     "execution_count": 45,
     "metadata": {},
     "output_type": "execute_result"
    }
   ],
   "source": [
    "stocks.loc[\"2023-01-05\"]"
   ]
  },
  {
   "cell_type": "code",
   "execution_count": 46,
   "id": "1bef3c44-a2b0-489b-87ef-2afc5f8e9a68",
   "metadata": {},
   "outputs": [
    {
     "data": {
      "text/html": [
       "<div>\n",
       "<style scoped>\n",
       "    .dataframe tbody tr th:only-of-type {\n",
       "        vertical-align: middle;\n",
       "    }\n",
       "\n",
       "    .dataframe tbody tr th {\n",
       "        vertical-align: top;\n",
       "    }\n",
       "\n",
       "    .dataframe thead th {\n",
       "        text-align: right;\n",
       "    }\n",
       "</style>\n",
       "<table border=\"1\" class=\"dataframe\">\n",
       "  <thead>\n",
       "    <tr style=\"text-align: right;\">\n",
       "      <th></th>\n",
       "      <th>Open</th>\n",
       "      <th>High</th>\n",
       "      <th>Low</th>\n",
       "      <th>Close</th>\n",
       "      <th>Volume</th>\n",
       "    </tr>\n",
       "    <tr>\n",
       "      <th>Date</th>\n",
       "      <th></th>\n",
       "      <th></th>\n",
       "      <th></th>\n",
       "      <th></th>\n",
       "      <th></th>\n",
       "    </tr>\n",
       "  </thead>\n",
       "  <tbody>\n",
       "    <tr>\n",
       "      <th>1962-01-02</th>\n",
       "      <td>5.04610</td>\n",
       "      <td>5.04610</td>\n",
       "      <td>4.98716</td>\n",
       "      <td>4.98716</td>\n",
       "      <td>5.935630e+05</td>\n",
       "    </tr>\n",
       "    <tr>\n",
       "      <th>1962-01-03</th>\n",
       "      <td>4.98716</td>\n",
       "      <td>5.03292</td>\n",
       "      <td>4.98716</td>\n",
       "      <td>5.03292</td>\n",
       "      <td>4.451750e+05</td>\n",
       "    </tr>\n",
       "    <tr>\n",
       "      <th>1962-01-04</th>\n",
       "      <td>5.03292</td>\n",
       "      <td>5.03292</td>\n",
       "      <td>4.98052</td>\n",
       "      <td>4.98052</td>\n",
       "      <td>3.995136e+05</td>\n",
       "    </tr>\n",
       "    <tr>\n",
       "      <th>1962-01-05</th>\n",
       "      <td>4.97389</td>\n",
       "      <td>4.97389</td>\n",
       "      <td>4.87511</td>\n",
       "      <td>4.88166</td>\n",
       "      <td>5.593215e+05</td>\n",
       "    </tr>\n",
       "    <tr>\n",
       "      <th>1962-01-08</th>\n",
       "      <td>4.88166</td>\n",
       "      <td>4.88166</td>\n",
       "      <td>4.75059</td>\n",
       "      <td>4.78972</td>\n",
       "      <td>8.332738e+05</td>\n",
       "    </tr>\n",
       "    <tr>\n",
       "      <th>...</th>\n",
       "      <td>...</td>\n",
       "      <td>...</td>\n",
       "      <td>...</td>\n",
       "      <td>...</td>\n",
       "      <td>...</td>\n",
       "    </tr>\n",
       "    <tr>\n",
       "      <th>1979-12-24</th>\n",
       "      <td>10.46770</td>\n",
       "      <td>10.61020</td>\n",
       "      <td>10.46770</td>\n",
       "      <td>10.61020</td>\n",
       "      <td>1.073289e+06</td>\n",
       "    </tr>\n",
       "    <tr>\n",
       "      <th>1979-12-26</th>\n",
       "      <td>10.61020</td>\n",
       "      <td>10.65220</td>\n",
       "      <td>10.53110</td>\n",
       "      <td>10.61020</td>\n",
       "      <td>9.941494e+05</td>\n",
       "    </tr>\n",
       "    <tr>\n",
       "      <th>1979-12-27</th>\n",
       "      <td>10.61020</td>\n",
       "      <td>10.62880</td>\n",
       "      <td>10.51170</td>\n",
       "      <td>10.59260</td>\n",
       "      <td>1.545095e+06</td>\n",
       "    </tr>\n",
       "    <tr>\n",
       "      <th>1979-12-28</th>\n",
       "      <td>10.57220</td>\n",
       "      <td>10.57220</td>\n",
       "      <td>10.46770</td>\n",
       "      <td>10.51170</td>\n",
       "      <td>1.699724e+06</td>\n",
       "    </tr>\n",
       "    <tr>\n",
       "      <th>1979-12-31</th>\n",
       "      <td>10.51170</td>\n",
       "      <td>10.57220</td>\n",
       "      <td>10.46770</td>\n",
       "      <td>10.53110</td>\n",
       "      <td>1.878710e+06</td>\n",
       "    </tr>\n",
       "  </tbody>\n",
       "</table>\n",
       "<p>4510 rows × 5 columns</p>\n",
       "</div>"
      ],
      "text/plain": [
       "                Open      High       Low     Close        Volume\n",
       "Date                                                            \n",
       "1962-01-02   5.04610   5.04610   4.98716   4.98716  5.935630e+05\n",
       "1962-01-03   4.98716   5.03292   4.98716   5.03292  4.451750e+05\n",
       "1962-01-04   5.03292   5.03292   4.98052   4.98052  3.995136e+05\n",
       "1962-01-05   4.97389   4.97389   4.87511   4.88166  5.593215e+05\n",
       "1962-01-08   4.88166   4.88166   4.75059   4.78972  8.332738e+05\n",
       "...              ...       ...       ...       ...           ...\n",
       "1979-12-24  10.46770  10.61020  10.46770  10.61020  1.073289e+06\n",
       "1979-12-26  10.61020  10.65220  10.53110  10.61020  9.941494e+05\n",
       "1979-12-27  10.61020  10.62880  10.51170  10.59260  1.545095e+06\n",
       "1979-12-28  10.57220  10.57220  10.46770  10.51170  1.699724e+06\n",
       "1979-12-31  10.51170  10.57220  10.46770  10.53110  1.878710e+06\n",
       "\n",
       "[4510 rows x 5 columns]"
      ]
     },
     "execution_count": 46,
     "metadata": {},
     "output_type": "execute_result"
    }
   ],
   "source": [
    "stocks.loc[\"1962-01-01\": \"1980-01-01\"]"
   ]
  },
  {
   "cell_type": "code",
   "execution_count": 47,
   "id": "a2cbd5d0-3f2d-481d-855b-2a22960169b9",
   "metadata": {},
   "outputs": [
    {
     "data": {
      "text/plain": [
       "Open      1.288700e+02\n",
       "High      1.298270e+02\n",
       "Low       1.288020e+02\n",
       "Close     1.293290e+02\n",
       "Volume    6.825202e+06\n",
       "Name: 2014-03-04 00:00:00, dtype: float64"
      ]
     },
     "execution_count": 47,
     "metadata": {},
     "output_type": "execute_result"
    }
   ],
   "source": [
    "stocks.loc[pd.Timestamp(2014,3,4)]"
   ]
  },
  {
   "cell_type": "code",
   "execution_count": 49,
   "id": "25e330a3-b0a4-4e01-b778-c998c1159854",
   "metadata": {},
   "outputs": [
    {
     "ename": "KeyError",
     "evalue": "datetime.date(2014, 3, 4)",
     "output_type": "error",
     "traceback": [
      "\u001b[0;31m---------------------------------------------------------------------------\u001b[0m",
      "\u001b[0;31mKeyError\u001b[0m                                  Traceback (most recent call last)",
      "Cell \u001b[0;32mIn[49], line 1\u001b[0m\n\u001b[0;32m----> 1\u001b[0m \u001b[43mstocks\u001b[49m\u001b[38;5;241;43m.\u001b[39;49m\u001b[43mloc\u001b[49m\u001b[43m[\u001b[49m\u001b[43mdt\u001b[49m\u001b[38;5;241;43m.\u001b[39;49m\u001b[43mdate\u001b[49m\u001b[43m(\u001b[49m\u001b[38;5;241;43m2014\u001b[39;49m\u001b[43m,\u001b[49m\u001b[38;5;241;43m3\u001b[39;49m\u001b[43m,\u001b[49m\u001b[38;5;241;43m4\u001b[39;49m\u001b[43m)\u001b[49m\u001b[43m]\u001b[49m \u001b[38;5;66;03m# can't use dt must use timestamp\u001b[39;00m\n",
      "File \u001b[0;32m~/Development/pandas_overview_nb/.venv/lib/python3.13/site-packages/pandas/core/indexing.py:1191\u001b[0m, in \u001b[0;36m_LocationIndexer.__getitem__\u001b[0;34m(self, key)\u001b[0m\n\u001b[1;32m   1189\u001b[0m maybe_callable \u001b[38;5;241m=\u001b[39m com\u001b[38;5;241m.\u001b[39mapply_if_callable(key, \u001b[38;5;28mself\u001b[39m\u001b[38;5;241m.\u001b[39mobj)\n\u001b[1;32m   1190\u001b[0m maybe_callable \u001b[38;5;241m=\u001b[39m \u001b[38;5;28mself\u001b[39m\u001b[38;5;241m.\u001b[39m_check_deprecated_callable_usage(key, maybe_callable)\n\u001b[0;32m-> 1191\u001b[0m \u001b[38;5;28;01mreturn\u001b[39;00m \u001b[38;5;28;43mself\u001b[39;49m\u001b[38;5;241;43m.\u001b[39;49m\u001b[43m_getitem_axis\u001b[49m\u001b[43m(\u001b[49m\u001b[43mmaybe_callable\u001b[49m\u001b[43m,\u001b[49m\u001b[43m \u001b[49m\u001b[43maxis\u001b[49m\u001b[38;5;241;43m=\u001b[39;49m\u001b[43maxis\u001b[49m\u001b[43m)\u001b[49m\n",
      "File \u001b[0;32m~/Development/pandas_overview_nb/.venv/lib/python3.13/site-packages/pandas/core/indexing.py:1431\u001b[0m, in \u001b[0;36m_LocIndexer._getitem_axis\u001b[0;34m(self, key, axis)\u001b[0m\n\u001b[1;32m   1429\u001b[0m \u001b[38;5;66;03m# fall thru to straight lookup\u001b[39;00m\n\u001b[1;32m   1430\u001b[0m \u001b[38;5;28mself\u001b[39m\u001b[38;5;241m.\u001b[39m_validate_key(key, axis)\n\u001b[0;32m-> 1431\u001b[0m \u001b[38;5;28;01mreturn\u001b[39;00m \u001b[38;5;28;43mself\u001b[39;49m\u001b[38;5;241;43m.\u001b[39;49m\u001b[43m_get_label\u001b[49m\u001b[43m(\u001b[49m\u001b[43mkey\u001b[49m\u001b[43m,\u001b[49m\u001b[43m \u001b[49m\u001b[43maxis\u001b[49m\u001b[38;5;241;43m=\u001b[39;49m\u001b[43maxis\u001b[49m\u001b[43m)\u001b[49m\n",
      "File \u001b[0;32m~/Development/pandas_overview_nb/.venv/lib/python3.13/site-packages/pandas/core/indexing.py:1381\u001b[0m, in \u001b[0;36m_LocIndexer._get_label\u001b[0;34m(self, label, axis)\u001b[0m\n\u001b[1;32m   1379\u001b[0m \u001b[38;5;28;01mdef\u001b[39;00m\u001b[38;5;250m \u001b[39m\u001b[38;5;21m_get_label\u001b[39m(\u001b[38;5;28mself\u001b[39m, label, axis: AxisInt):\n\u001b[1;32m   1380\u001b[0m     \u001b[38;5;66;03m# GH#5567 this will fail if the label is not present in the axis.\u001b[39;00m\n\u001b[0;32m-> 1381\u001b[0m     \u001b[38;5;28;01mreturn\u001b[39;00m \u001b[38;5;28;43mself\u001b[39;49m\u001b[38;5;241;43m.\u001b[39;49m\u001b[43mobj\u001b[49m\u001b[38;5;241;43m.\u001b[39;49m\u001b[43mxs\u001b[49m\u001b[43m(\u001b[49m\u001b[43mlabel\u001b[49m\u001b[43m,\u001b[49m\u001b[43m \u001b[49m\u001b[43maxis\u001b[49m\u001b[38;5;241;43m=\u001b[39;49m\u001b[43maxis\u001b[49m\u001b[43m)\u001b[49m\n",
      "File \u001b[0;32m~/Development/pandas_overview_nb/.venv/lib/python3.13/site-packages/pandas/core/generic.py:4301\u001b[0m, in \u001b[0;36mNDFrame.xs\u001b[0;34m(self, key, axis, level, drop_level)\u001b[0m\n\u001b[1;32m   4299\u001b[0m             new_index \u001b[38;5;241m=\u001b[39m index[loc]\n\u001b[1;32m   4300\u001b[0m \u001b[38;5;28;01melse\u001b[39;00m:\n\u001b[0;32m-> 4301\u001b[0m     loc \u001b[38;5;241m=\u001b[39m \u001b[43mindex\u001b[49m\u001b[38;5;241;43m.\u001b[39;49m\u001b[43mget_loc\u001b[49m\u001b[43m(\u001b[49m\u001b[43mkey\u001b[49m\u001b[43m)\u001b[49m\n\u001b[1;32m   4303\u001b[0m     \u001b[38;5;28;01mif\u001b[39;00m \u001b[38;5;28misinstance\u001b[39m(loc, np\u001b[38;5;241m.\u001b[39mndarray):\n\u001b[1;32m   4304\u001b[0m         \u001b[38;5;28;01mif\u001b[39;00m loc\u001b[38;5;241m.\u001b[39mdtype \u001b[38;5;241m==\u001b[39m np\u001b[38;5;241m.\u001b[39mbool_:\n",
      "File \u001b[0;32m~/Development/pandas_overview_nb/.venv/lib/python3.13/site-packages/pandas/core/indexes/datetimes.py:627\u001b[0m, in \u001b[0;36mDatetimeIndex.get_loc\u001b[0;34m(self, key)\u001b[0m\n\u001b[1;32m    623\u001b[0m     \u001b[38;5;28;01mreturn\u001b[39;00m \u001b[38;5;28mself\u001b[39m\u001b[38;5;241m.\u001b[39mindexer_at_time(key)\n\u001b[1;32m    625\u001b[0m \u001b[38;5;28;01melse\u001b[39;00m:\n\u001b[1;32m    626\u001b[0m     \u001b[38;5;66;03m# unrecognized type\u001b[39;00m\n\u001b[0;32m--> 627\u001b[0m     \u001b[38;5;28;01mraise\u001b[39;00m \u001b[38;5;167;01mKeyError\u001b[39;00m(key)\n\u001b[1;32m    629\u001b[0m \u001b[38;5;28;01mtry\u001b[39;00m:\n\u001b[1;32m    630\u001b[0m     \u001b[38;5;28;01mreturn\u001b[39;00m Index\u001b[38;5;241m.\u001b[39mget_loc(\u001b[38;5;28mself\u001b[39m, key)\n",
      "\u001b[0;31mKeyError\u001b[0m: datetime.date(2014, 3, 4)"
     ]
    }
   ],
   "source": [
    "stocks.loc[dt.date(2014,3,4)] # can't use dt must use timestamp"
   ]
  },
  {
   "cell_type": "code",
   "execution_count": 51,
   "id": "fd800838-6f67-4c76-91be-ad9980a7cd5b",
   "metadata": {},
   "outputs": [
    {
     "data": {
      "text/html": [
       "<div>\n",
       "<style scoped>\n",
       "    .dataframe tbody tr th:only-of-type {\n",
       "        vertical-align: middle;\n",
       "    }\n",
       "\n",
       "    .dataframe tbody tr th {\n",
       "        vertical-align: top;\n",
       "    }\n",
       "\n",
       "    .dataframe thead th {\n",
       "        text-align: right;\n",
       "    }\n",
       "</style>\n",
       "<table border=\"1\" class=\"dataframe\">\n",
       "  <thead>\n",
       "    <tr style=\"text-align: right;\">\n",
       "      <th></th>\n",
       "      <th>Open</th>\n",
       "      <th>High</th>\n",
       "      <th>Low</th>\n",
       "      <th>Close</th>\n",
       "      <th>Volume</th>\n",
       "    </tr>\n",
       "    <tr>\n",
       "      <th>Date</th>\n",
       "      <th></th>\n",
       "      <th></th>\n",
       "      <th></th>\n",
       "      <th></th>\n",
       "      <th></th>\n",
       "    </tr>\n",
       "  </thead>\n",
       "  <tbody>\n",
       "    <tr>\n",
       "      <th>2014-03-03</th>\n",
       "      <td>127.201</td>\n",
       "      <td>128.070</td>\n",
       "      <td>126.801</td>\n",
       "      <td>127.807</td>\n",
       "      <td>5.698452e+06</td>\n",
       "    </tr>\n",
       "    <tr>\n",
       "      <th>2014-03-04</th>\n",
       "      <td>128.870</td>\n",
       "      <td>129.827</td>\n",
       "      <td>128.802</td>\n",
       "      <td>129.329</td>\n",
       "      <td>6.825202e+06</td>\n",
       "    </tr>\n",
       "    <tr>\n",
       "      <th>2014-03-05</th>\n",
       "      <td>129.407</td>\n",
       "      <td>130.344</td>\n",
       "      <td>129.319</td>\n",
       "      <td>129.807</td>\n",
       "      <td>5.027617e+06</td>\n",
       "    </tr>\n",
       "    <tr>\n",
       "      <th>2014-03-06</th>\n",
       "      <td>129.963</td>\n",
       "      <td>130.676</td>\n",
       "      <td>129.631</td>\n",
       "      <td>130.159</td>\n",
       "      <td>5.503611e+06</td>\n",
       "    </tr>\n",
       "    <tr>\n",
       "      <th>2014-03-07</th>\n",
       "      <td>130.676</td>\n",
       "      <td>131.047</td>\n",
       "      <td>129.837</td>\n",
       "      <td>130.198</td>\n",
       "      <td>5.936539e+06</td>\n",
       "    </tr>\n",
       "    <tr>\n",
       "      <th>...</th>\n",
       "      <td>...</td>\n",
       "      <td>...</td>\n",
       "      <td>...</td>\n",
       "      <td>...</td>\n",
       "      <td>...</td>\n",
       "    </tr>\n",
       "    <tr>\n",
       "      <th>2014-05-23</th>\n",
       "      <td>129.651</td>\n",
       "      <td>129.866</td>\n",
       "      <td>129.309</td>\n",
       "      <td>129.719</td>\n",
       "      <td>3.673929e+06</td>\n",
       "    </tr>\n",
       "    <tr>\n",
       "      <th>2014-05-27</th>\n",
       "      <td>128.909</td>\n",
       "      <td>129.525</td>\n",
       "      <td>128.324</td>\n",
       "      <td>128.900</td>\n",
       "      <td>6.871714e+06</td>\n",
       "    </tr>\n",
       "    <tr>\n",
       "      <th>2014-05-28</th>\n",
       "      <td>128.724</td>\n",
       "      <td>128.978</td>\n",
       "      <td>127.612</td>\n",
       "      <td>127.719</td>\n",
       "      <td>5.336975e+06</td>\n",
       "    </tr>\n",
       "    <tr>\n",
       "      <th>2014-05-29</th>\n",
       "      <td>128.128</td>\n",
       "      <td>128.206</td>\n",
       "      <td>127.221</td>\n",
       "      <td>128.188</td>\n",
       "      <td>3.955876e+06</td>\n",
       "    </tr>\n",
       "    <tr>\n",
       "      <th>2014-05-30</th>\n",
       "      <td>127.934</td>\n",
       "      <td>128.763</td>\n",
       "      <td>127.348</td>\n",
       "      <td>128.636</td>\n",
       "      <td>6.622256e+06</td>\n",
       "    </tr>\n",
       "  </tbody>\n",
       "</table>\n",
       "<p>63 rows × 5 columns</p>\n",
       "</div>"
      ],
      "text/plain": [
       "               Open     High      Low    Close        Volume\n",
       "Date                                                        \n",
       "2014-03-03  127.201  128.070  126.801  127.807  5.698452e+06\n",
       "2014-03-04  128.870  129.827  128.802  129.329  6.825202e+06\n",
       "2014-03-05  129.407  130.344  129.319  129.807  5.027617e+06\n",
       "2014-03-06  129.963  130.676  129.631  130.159  5.503611e+06\n",
       "2014-03-07  130.676  131.047  129.837  130.198  5.936539e+06\n",
       "...             ...      ...      ...      ...           ...\n",
       "2014-05-23  129.651  129.866  129.309  129.719  3.673929e+06\n",
       "2014-05-27  128.909  129.525  128.324  128.900  6.871714e+06\n",
       "2014-05-28  128.724  128.978  127.612  127.719  5.336975e+06\n",
       "2014-05-29  128.128  128.206  127.221  128.188  3.955876e+06\n",
       "2014-05-30  127.934  128.763  127.348  128.636  6.622256e+06\n",
       "\n",
       "[63 rows x 5 columns]"
      ]
     },
     "execution_count": 51,
     "metadata": {},
     "output_type": "execute_result"
    }
   ],
   "source": [
    "stocks.truncate(\"2014-03-03\", \"2014-06-01\") # instead of slicing... but who want's to do that?"
   ]
  },
  {
   "cell_type": "markdown",
   "id": "eab38693-203e-4e6b-9110-66beb5d07137",
   "metadata": {},
   "source": [
    "## The DateOffset Object\n",
    "\n",
    "- A **DateOffset** object adds time to a **Timestamp** to arrive at a new **Timestamp**.\n",
    "- The **DateOffset** constructor accepts `days`, `weeks`, `months`, `years` parameters, and more.\n",
    "- We can pass a **DateOffset** object to the `freq` parameter of the `pd.date_range` function."
   ]
  },
  {
   "cell_type": "code",
   "execution_count": 53,
   "id": "e97fafc8-892b-4ba6-87b0-c89fb964e60d",
   "metadata": {},
   "outputs": [
    {
     "data": {
      "text/html": [
       "<div>\n",
       "<style scoped>\n",
       "    .dataframe tbody tr th:only-of-type {\n",
       "        vertical-align: middle;\n",
       "    }\n",
       "\n",
       "    .dataframe tbody tr th {\n",
       "        vertical-align: top;\n",
       "    }\n",
       "\n",
       "    .dataframe thead th {\n",
       "        text-align: right;\n",
       "    }\n",
       "</style>\n",
       "<table border=\"1\" class=\"dataframe\">\n",
       "  <thead>\n",
       "    <tr style=\"text-align: right;\">\n",
       "      <th></th>\n",
       "      <th>Open</th>\n",
       "      <th>High</th>\n",
       "      <th>Low</th>\n",
       "      <th>Close</th>\n",
       "      <th>Volume</th>\n",
       "    </tr>\n",
       "    <tr>\n",
       "      <th>Date</th>\n",
       "      <th></th>\n",
       "      <th></th>\n",
       "      <th></th>\n",
       "      <th></th>\n",
       "      <th></th>\n",
       "    </tr>\n",
       "  </thead>\n",
       "  <tbody>\n",
       "    <tr>\n",
       "      <th>1962-01-02</th>\n",
       "      <td>5.04610</td>\n",
       "      <td>5.04610</td>\n",
       "      <td>4.98716</td>\n",
       "      <td>4.98716</td>\n",
       "      <td>5.935630e+05</td>\n",
       "    </tr>\n",
       "    <tr>\n",
       "      <th>1962-01-03</th>\n",
       "      <td>4.98716</td>\n",
       "      <td>5.03292</td>\n",
       "      <td>4.98716</td>\n",
       "      <td>5.03292</td>\n",
       "      <td>4.451750e+05</td>\n",
       "    </tr>\n",
       "    <tr>\n",
       "      <th>1962-01-04</th>\n",
       "      <td>5.03292</td>\n",
       "      <td>5.03292</td>\n",
       "      <td>4.98052</td>\n",
       "      <td>4.98052</td>\n",
       "      <td>3.995136e+05</td>\n",
       "    </tr>\n",
       "    <tr>\n",
       "      <th>1962-01-05</th>\n",
       "      <td>4.97389</td>\n",
       "      <td>4.97389</td>\n",
       "      <td>4.87511</td>\n",
       "      <td>4.88166</td>\n",
       "      <td>5.593215e+05</td>\n",
       "    </tr>\n",
       "    <tr>\n",
       "      <th>1962-01-08</th>\n",
       "      <td>4.88166</td>\n",
       "      <td>4.88166</td>\n",
       "      <td>4.75059</td>\n",
       "      <td>4.78972</td>\n",
       "      <td>8.332738e+05</td>\n",
       "    </tr>\n",
       "    <tr>\n",
       "      <th>...</th>\n",
       "      <td>...</td>\n",
       "      <td>...</td>\n",
       "      <td>...</td>\n",
       "      <td>...</td>\n",
       "      <td>...</td>\n",
       "    </tr>\n",
       "    <tr>\n",
       "      <th>2023-10-05</th>\n",
       "      <td>140.90000</td>\n",
       "      <td>141.70000</td>\n",
       "      <td>140.19000</td>\n",
       "      <td>141.52000</td>\n",
       "      <td>3.223910e+06</td>\n",
       "    </tr>\n",
       "    <tr>\n",
       "      <th>2023-10-06</th>\n",
       "      <td>141.40000</td>\n",
       "      <td>142.94000</td>\n",
       "      <td>140.11000</td>\n",
       "      <td>142.03000</td>\n",
       "      <td>3.511347e+06</td>\n",
       "    </tr>\n",
       "    <tr>\n",
       "      <th>2023-10-09</th>\n",
       "      <td>142.30000</td>\n",
       "      <td>142.40000</td>\n",
       "      <td>140.68000</td>\n",
       "      <td>142.20000</td>\n",
       "      <td>2.354396e+06</td>\n",
       "    </tr>\n",
       "    <tr>\n",
       "      <th>2023-10-10</th>\n",
       "      <td>142.60000</td>\n",
       "      <td>143.41500</td>\n",
       "      <td>141.72000</td>\n",
       "      <td>142.11000</td>\n",
       "      <td>3.015784e+06</td>\n",
       "    </tr>\n",
       "    <tr>\n",
       "      <th>2023-10-11</th>\n",
       "      <td>142.51000</td>\n",
       "      <td>143.34000</td>\n",
       "      <td>142.14000</td>\n",
       "      <td>143.23000</td>\n",
       "      <td>2.511459e+06</td>\n",
       "    </tr>\n",
       "  </tbody>\n",
       "</table>\n",
       "<p>15546 rows × 5 columns</p>\n",
       "</div>"
      ],
      "text/plain": [
       "                 Open       High        Low      Close        Volume\n",
       "Date                                                                \n",
       "1962-01-02    5.04610    5.04610    4.98716    4.98716  5.935630e+05\n",
       "1962-01-03    4.98716    5.03292    4.98716    5.03292  4.451750e+05\n",
       "1962-01-04    5.03292    5.03292    4.98052    4.98052  3.995136e+05\n",
       "1962-01-05    4.97389    4.97389    4.87511    4.88166  5.593215e+05\n",
       "1962-01-08    4.88166    4.88166    4.75059    4.78972  8.332738e+05\n",
       "...               ...        ...        ...        ...           ...\n",
       "2023-10-05  140.90000  141.70000  140.19000  141.52000  3.223910e+06\n",
       "2023-10-06  141.40000  142.94000  140.11000  142.03000  3.511347e+06\n",
       "2023-10-09  142.30000  142.40000  140.68000  142.20000  2.354396e+06\n",
       "2023-10-10  142.60000  143.41500  141.72000  142.11000  3.015784e+06\n",
       "2023-10-11  142.51000  143.34000  142.14000  143.23000  2.511459e+06\n",
       "\n",
       "[15546 rows x 5 columns]"
      ]
     },
     "execution_count": 53,
     "metadata": {},
     "output_type": "execute_result"
    }
   ],
   "source": [
    "stocks = stocks_df.copy()\n",
    "stocks"
   ]
  },
  {
   "cell_type": "code",
   "execution_count": 54,
   "id": "09833190-6b29-496e-9cd9-25d7cd725cad",
   "metadata": {},
   "outputs": [
    {
     "data": {
      "text/plain": [
       "DatetimeIndex(['1962-01-02', '1962-01-03', '1962-01-04', '1962-01-05',\n",
       "               '1962-01-08', '1962-01-09', '1962-01-10', '1962-01-11',\n",
       "               '1962-01-12', '1962-01-15',\n",
       "               ...\n",
       "               '2023-09-28', '2023-09-29', '2023-10-02', '2023-10-03',\n",
       "               '2023-10-04', '2023-10-05', '2023-10-06', '2023-10-09',\n",
       "               '2023-10-10', '2023-10-11'],\n",
       "              dtype='datetime64[ns]', name='Date', length=15546, freq=None)"
      ]
     },
     "execution_count": 54,
     "metadata": {},
     "output_type": "execute_result"
    }
   ],
   "source": [
    "stocks.index"
   ]
  },
  {
   "cell_type": "code",
   "execution_count": 57,
   "id": "1c1900ff-f122-4424-a408-50c2e1bc12c2",
   "metadata": {},
   "outputs": [
    {
     "data": {
      "text/plain": [
       "DatetimeIndex(['1962-01-07', '1962-01-08', '1962-01-09', '1962-01-10',\n",
       "               '1962-01-13', '1962-01-14', '1962-01-15', '1962-01-16',\n",
       "               '1962-01-17', '1962-01-20',\n",
       "               ...\n",
       "               '2023-10-03', '2023-10-04', '2023-10-07', '2023-10-08',\n",
       "               '2023-10-09', '2023-10-10', '2023-10-11', '2023-10-14',\n",
       "               '2023-10-15', '2023-10-16'],\n",
       "              dtype='datetime64[ns]', name='Date', length=15546, freq=None)"
      ]
     },
     "execution_count": 57,
     "metadata": {},
     "output_type": "execute_result"
    }
   ],
   "source": [
    "stocks.index + pd.DateOffset(days=5) # Cool add days to every one"
   ]
  },
  {
   "cell_type": "code",
   "execution_count": 61,
   "id": "41f91f65-6477-4cef-9300-7b60306ccd1c",
   "metadata": {},
   "outputs": [
    {
     "data": {
      "text/plain": [
       "DatetimeIndex(['1991-04-12', '1992-04-12', '1993-04-12', '1994-04-12',\n",
       "               '1995-04-12', '1996-04-12', '1997-04-12', '1998-04-12',\n",
       "               '1999-04-12', '2000-04-12', '2001-04-12', '2002-04-12',\n",
       "               '2003-04-12', '2004-04-12', '2005-04-12', '2006-04-12',\n",
       "               '2007-04-12', '2008-04-12', '2009-04-12', '2010-04-12',\n",
       "               '2011-04-12', '2012-04-12', '2013-04-12', '2014-04-12',\n",
       "               '2015-04-12', '2016-04-12', '2017-04-12', '2018-04-12',\n",
       "               '2019-04-12', '2020-04-12', '2021-04-12', '2022-04-12',\n",
       "               '2023-04-12'],\n",
       "              dtype='datetime64[ns]', freq='<DateOffset: years=1>')"
      ]
     },
     "execution_count": 61,
     "metadata": {},
     "output_type": "execute_result"
    }
   ],
   "source": [
    "# Find the stock price every april 12th\n",
    "pd.date_range(start=\"1991-04-12\", end=\"2023-04-12\", freq=pd.DateOffset(years=1))"
   ]
  },
  {
   "cell_type": "code",
   "execution_count": 62,
   "id": "14022765-412c-4004-b5c3-6f1b4f0ad8fb",
   "metadata": {},
   "outputs": [
    {
     "data": {
      "text/html": [
       "<div>\n",
       "<style scoped>\n",
       "    .dataframe tbody tr th:only-of-type {\n",
       "        vertical-align: middle;\n",
       "    }\n",
       "\n",
       "    .dataframe tbody tr th {\n",
       "        vertical-align: top;\n",
       "    }\n",
       "\n",
       "    .dataframe thead th {\n",
       "        text-align: right;\n",
       "    }\n",
       "</style>\n",
       "<table border=\"1\" class=\"dataframe\">\n",
       "  <thead>\n",
       "    <tr style=\"text-align: right;\">\n",
       "      <th></th>\n",
       "      <th>Open</th>\n",
       "      <th>High</th>\n",
       "      <th>Low</th>\n",
       "      <th>Close</th>\n",
       "      <th>Volume</th>\n",
       "    </tr>\n",
       "    <tr>\n",
       "      <th>Date</th>\n",
       "      <th></th>\n",
       "      <th></th>\n",
       "      <th></th>\n",
       "      <th></th>\n",
       "      <th></th>\n",
       "    </tr>\n",
       "  </thead>\n",
       "  <tbody>\n",
       "    <tr>\n",
       "      <th>1991-04-12</th>\n",
       "      <td>18.16780</td>\n",
       "      <td>18.16780</td>\n",
       "      <td>17.69540</td>\n",
       "      <td>17.75200</td>\n",
       "      <td>2.164536e+07</td>\n",
       "    </tr>\n",
       "    <tr>\n",
       "      <th>1993-04-12</th>\n",
       "      <td>8.30500</td>\n",
       "      <td>8.48788</td>\n",
       "      <td>8.28665</td>\n",
       "      <td>8.34598</td>\n",
       "      <td>8.518730e+06</td>\n",
       "    </tr>\n",
       "    <tr>\n",
       "      <th>1994-04-12</th>\n",
       "      <td>8.79793</td>\n",
       "      <td>8.81911</td>\n",
       "      <td>8.59455</td>\n",
       "      <td>8.65281</td>\n",
       "      <td>1.149508e+07</td>\n",
       "    </tr>\n",
       "    <tr>\n",
       "      <th>1995-04-12</th>\n",
       "      <td>14.16070</td>\n",
       "      <td>14.34310</td>\n",
       "      <td>14.09330</td>\n",
       "      <td>14.25620</td>\n",
       "      <td>1.158640e+07</td>\n",
       "    </tr>\n",
       "    <tr>\n",
       "      <th>1996-04-12</th>\n",
       "      <td>18.86360</td>\n",
       "      <td>18.92410</td>\n",
       "      <td>18.02330</td>\n",
       "      <td>18.25170</td>\n",
       "      <td>4.724783e+07</td>\n",
       "    </tr>\n",
       "    <tr>\n",
       "      <th>1999-04-12</th>\n",
       "      <td>60.07580</td>\n",
       "      <td>60.10990</td>\n",
       "      <td>59.27160</td>\n",
       "      <td>60.05430</td>\n",
       "      <td>1.366693e+07</td>\n",
       "    </tr>\n",
       "    <tr>\n",
       "      <th>2000-04-12</th>\n",
       "      <td>78.30890</td>\n",
       "      <td>78.30890</td>\n",
       "      <td>73.13650</td>\n",
       "      <td>74.49310</td>\n",
       "      <td>1.352295e+07</td>\n",
       "    </tr>\n",
       "    <tr>\n",
       "      <th>2001-04-12</th>\n",
       "      <td>63.33930</td>\n",
       "      <td>64.06240</td>\n",
       "      <td>62.51650</td>\n",
       "      <td>63.20750</td>\n",
       "      <td>1.429048e+07</td>\n",
       "    </tr>\n",
       "    <tr>\n",
       "      <th>2002-04-12</th>\n",
       "      <td>57.53060</td>\n",
       "      <td>57.79410</td>\n",
       "      <td>55.45480</td>\n",
       "      <td>56.24140</td>\n",
       "      <td>2.405615e+07</td>\n",
       "    </tr>\n",
       "    <tr>\n",
       "      <th>2004-04-12</th>\n",
       "      <td>61.43420</td>\n",
       "      <td>61.99840</td>\n",
       "      <td>61.36590</td>\n",
       "      <td>61.59330</td>\n",
       "      <td>4.736957e+06</td>\n",
       "    </tr>\n",
       "    <tr>\n",
       "      <th>2005-04-12</th>\n",
       "      <td>56.44050</td>\n",
       "      <td>56.66400</td>\n",
       "      <td>55.95930</td>\n",
       "      <td>56.34190</td>\n",
       "      <td>1.286059e+07</td>\n",
       "    </tr>\n",
       "    <tr>\n",
       "      <th>2006-04-12</th>\n",
       "      <td>53.28730</td>\n",
       "      <td>53.46300</td>\n",
       "      <td>52.97880</td>\n",
       "      <td>53.05790</td>\n",
       "      <td>5.943571e+06</td>\n",
       "    </tr>\n",
       "    <tr>\n",
       "      <th>2007-04-12</th>\n",
       "      <td>62.43660</td>\n",
       "      <td>62.95670</td>\n",
       "      <td>62.10960</td>\n",
       "      <td>62.86010</td>\n",
       "      <td>1.078356e+07</td>\n",
       "    </tr>\n",
       "    <tr>\n",
       "      <th>2010-04-12</th>\n",
       "      <td>84.48650</td>\n",
       "      <td>84.73830</td>\n",
       "      <td>84.26890</td>\n",
       "      <td>84.34410</td>\n",
       "      <td>6.076087e+06</td>\n",
       "    </tr>\n",
       "    <tr>\n",
       "      <th>2011-04-12</th>\n",
       "      <td>107.36100</td>\n",
       "      <td>107.59500</td>\n",
       "      <td>106.65800</td>\n",
       "      <td>107.28300</td>\n",
       "      <td>5.876340e+06</td>\n",
       "    </tr>\n",
       "    <tr>\n",
       "      <th>2012-04-12</th>\n",
       "      <td>135.49600</td>\n",
       "      <td>137.33200</td>\n",
       "      <td>135.37000</td>\n",
       "      <td>137.18500</td>\n",
       "      <td>4.384856e+06</td>\n",
       "    </tr>\n",
       "    <tr>\n",
       "      <th>2013-04-12</th>\n",
       "      <td>143.23600</td>\n",
       "      <td>143.71500</td>\n",
       "      <td>142.54300</td>\n",
       "      <td>143.64600</td>\n",
       "      <td>4.658051e+06</td>\n",
       "    </tr>\n",
       "    <tr>\n",
       "      <th>2016-04-12</th>\n",
       "      <td>110.27900</td>\n",
       "      <td>110.65000</td>\n",
       "      <td>109.53700</td>\n",
       "      <td>110.28900</td>\n",
       "      <td>4.874036e+06</td>\n",
       "    </tr>\n",
       "    <tr>\n",
       "      <th>2017-04-12</th>\n",
       "      <td>130.58800</td>\n",
       "      <td>130.71500</td>\n",
       "      <td>129.80700</td>\n",
       "      <td>130.29600</td>\n",
       "      <td>4.292101e+06</td>\n",
       "    </tr>\n",
       "    <tr>\n",
       "      <th>2018-04-12</th>\n",
       "      <td>124.55700</td>\n",
       "      <td>126.31400</td>\n",
       "      <td>124.48900</td>\n",
       "      <td>125.58200</td>\n",
       "      <td>7.097073e+06</td>\n",
       "    </tr>\n",
       "    <tr>\n",
       "      <th>2019-04-12</th>\n",
       "      <td>120.04800</td>\n",
       "      <td>120.18500</td>\n",
       "      <td>119.57000</td>\n",
       "      <td>120.10700</td>\n",
       "      <td>3.484076e+06</td>\n",
       "    </tr>\n",
       "    <tr>\n",
       "      <th>2021-04-12</th>\n",
       "      <td>124.11800</td>\n",
       "      <td>124.43900</td>\n",
       "      <td>123.03400</td>\n",
       "      <td>123.71800</td>\n",
       "      <td>4.083806e+06</td>\n",
       "    </tr>\n",
       "    <tr>\n",
       "      <th>2022-04-12</th>\n",
       "      <td>121.89300</td>\n",
       "      <td>122.78100</td>\n",
       "      <td>121.09200</td>\n",
       "      <td>121.47300</td>\n",
       "      <td>2.790840e+06</td>\n",
       "    </tr>\n",
       "    <tr>\n",
       "      <th>2023-04-12</th>\n",
       "      <td>130.40000</td>\n",
       "      <td>130.88570</td>\n",
       "      <td>128.17000</td>\n",
       "      <td>128.54000</td>\n",
       "      <td>3.957542e+06</td>\n",
       "    </tr>\n",
       "  </tbody>\n",
       "</table>\n",
       "</div>"
      ],
      "text/plain": [
       "                 Open       High        Low      Close        Volume\n",
       "Date                                                                \n",
       "1991-04-12   18.16780   18.16780   17.69540   17.75200  2.164536e+07\n",
       "1993-04-12    8.30500    8.48788    8.28665    8.34598  8.518730e+06\n",
       "1994-04-12    8.79793    8.81911    8.59455    8.65281  1.149508e+07\n",
       "1995-04-12   14.16070   14.34310   14.09330   14.25620  1.158640e+07\n",
       "1996-04-12   18.86360   18.92410   18.02330   18.25170  4.724783e+07\n",
       "1999-04-12   60.07580   60.10990   59.27160   60.05430  1.366693e+07\n",
       "2000-04-12   78.30890   78.30890   73.13650   74.49310  1.352295e+07\n",
       "2001-04-12   63.33930   64.06240   62.51650   63.20750  1.429048e+07\n",
       "2002-04-12   57.53060   57.79410   55.45480   56.24140  2.405615e+07\n",
       "2004-04-12   61.43420   61.99840   61.36590   61.59330  4.736957e+06\n",
       "2005-04-12   56.44050   56.66400   55.95930   56.34190  1.286059e+07\n",
       "2006-04-12   53.28730   53.46300   52.97880   53.05790  5.943571e+06\n",
       "2007-04-12   62.43660   62.95670   62.10960   62.86010  1.078356e+07\n",
       "2010-04-12   84.48650   84.73830   84.26890   84.34410  6.076087e+06\n",
       "2011-04-12  107.36100  107.59500  106.65800  107.28300  5.876340e+06\n",
       "2012-04-12  135.49600  137.33200  135.37000  137.18500  4.384856e+06\n",
       "2013-04-12  143.23600  143.71500  142.54300  143.64600  4.658051e+06\n",
       "2016-04-12  110.27900  110.65000  109.53700  110.28900  4.874036e+06\n",
       "2017-04-12  130.58800  130.71500  129.80700  130.29600  4.292101e+06\n",
       "2018-04-12  124.55700  126.31400  124.48900  125.58200  7.097073e+06\n",
       "2019-04-12  120.04800  120.18500  119.57000  120.10700  3.484076e+06\n",
       "2021-04-12  124.11800  124.43900  123.03400  123.71800  4.083806e+06\n",
       "2022-04-12  121.89300  122.78100  121.09200  121.47300  2.790840e+06\n",
       "2023-04-12  130.40000  130.88570  128.17000  128.54000  3.957542e+06"
      ]
     },
     "execution_count": 62,
     "metadata": {},
     "output_type": "execute_result"
    }
   ],
   "source": [
    "stocks[stocks.index.isin(pd.date_range(start=\"1991-04-12\", end=\"2023-04-12\", freq=pd.DateOffset(years=1)))]"
   ]
  },
  {
   "cell_type": "markdown",
   "id": "37d501b0-d9c1-4f6d-a0c1-6ea34bb4f971",
   "metadata": {},
   "source": [
    "## Specialized Date Offsets\n",
    "\n",
    "- Pandas nests more specialized date offsets in `pd.tseries.offsets`.\n",
    "- We can add a different amount of time to each date (for example, month end, quarter end, year begin)."
   ]
  },
  {
   "cell_type": "code",
   "execution_count": 63,
   "id": "3323622d-e02b-4523-808c-eacb57e5193c",
   "metadata": {},
   "outputs": [
    {
     "data": {
      "text/html": [
       "<div>\n",
       "<style scoped>\n",
       "    .dataframe tbody tr th:only-of-type {\n",
       "        vertical-align: middle;\n",
       "    }\n",
       "\n",
       "    .dataframe tbody tr th {\n",
       "        vertical-align: top;\n",
       "    }\n",
       "\n",
       "    .dataframe thead th {\n",
       "        text-align: right;\n",
       "    }\n",
       "</style>\n",
       "<table border=\"1\" class=\"dataframe\">\n",
       "  <thead>\n",
       "    <tr style=\"text-align: right;\">\n",
       "      <th></th>\n",
       "      <th>Open</th>\n",
       "      <th>High</th>\n",
       "      <th>Low</th>\n",
       "      <th>Close</th>\n",
       "      <th>Volume</th>\n",
       "    </tr>\n",
       "    <tr>\n",
       "      <th>Date</th>\n",
       "      <th></th>\n",
       "      <th></th>\n",
       "      <th></th>\n",
       "      <th></th>\n",
       "      <th></th>\n",
       "    </tr>\n",
       "  </thead>\n",
       "  <tbody>\n",
       "    <tr>\n",
       "      <th>1962-01-02</th>\n",
       "      <td>5.04610</td>\n",
       "      <td>5.04610</td>\n",
       "      <td>4.98716</td>\n",
       "      <td>4.98716</td>\n",
       "      <td>5.935630e+05</td>\n",
       "    </tr>\n",
       "    <tr>\n",
       "      <th>1962-01-03</th>\n",
       "      <td>4.98716</td>\n",
       "      <td>5.03292</td>\n",
       "      <td>4.98716</td>\n",
       "      <td>5.03292</td>\n",
       "      <td>4.451750e+05</td>\n",
       "    </tr>\n",
       "    <tr>\n",
       "      <th>1962-01-04</th>\n",
       "      <td>5.03292</td>\n",
       "      <td>5.03292</td>\n",
       "      <td>4.98052</td>\n",
       "      <td>4.98052</td>\n",
       "      <td>3.995136e+05</td>\n",
       "    </tr>\n",
       "    <tr>\n",
       "      <th>1962-01-05</th>\n",
       "      <td>4.97389</td>\n",
       "      <td>4.97389</td>\n",
       "      <td>4.87511</td>\n",
       "      <td>4.88166</td>\n",
       "      <td>5.593215e+05</td>\n",
       "    </tr>\n",
       "    <tr>\n",
       "      <th>1962-01-08</th>\n",
       "      <td>4.88166</td>\n",
       "      <td>4.88166</td>\n",
       "      <td>4.75059</td>\n",
       "      <td>4.78972</td>\n",
       "      <td>8.332738e+05</td>\n",
       "    </tr>\n",
       "    <tr>\n",
       "      <th>...</th>\n",
       "      <td>...</td>\n",
       "      <td>...</td>\n",
       "      <td>...</td>\n",
       "      <td>...</td>\n",
       "      <td>...</td>\n",
       "    </tr>\n",
       "    <tr>\n",
       "      <th>2023-10-05</th>\n",
       "      <td>140.90000</td>\n",
       "      <td>141.70000</td>\n",
       "      <td>140.19000</td>\n",
       "      <td>141.52000</td>\n",
       "      <td>3.223910e+06</td>\n",
       "    </tr>\n",
       "    <tr>\n",
       "      <th>2023-10-06</th>\n",
       "      <td>141.40000</td>\n",
       "      <td>142.94000</td>\n",
       "      <td>140.11000</td>\n",
       "      <td>142.03000</td>\n",
       "      <td>3.511347e+06</td>\n",
       "    </tr>\n",
       "    <tr>\n",
       "      <th>2023-10-09</th>\n",
       "      <td>142.30000</td>\n",
       "      <td>142.40000</td>\n",
       "      <td>140.68000</td>\n",
       "      <td>142.20000</td>\n",
       "      <td>2.354396e+06</td>\n",
       "    </tr>\n",
       "    <tr>\n",
       "      <th>2023-10-10</th>\n",
       "      <td>142.60000</td>\n",
       "      <td>143.41500</td>\n",
       "      <td>141.72000</td>\n",
       "      <td>142.11000</td>\n",
       "      <td>3.015784e+06</td>\n",
       "    </tr>\n",
       "    <tr>\n",
       "      <th>2023-10-11</th>\n",
       "      <td>142.51000</td>\n",
       "      <td>143.34000</td>\n",
       "      <td>142.14000</td>\n",
       "      <td>143.23000</td>\n",
       "      <td>2.511459e+06</td>\n",
       "    </tr>\n",
       "  </tbody>\n",
       "</table>\n",
       "<p>15546 rows × 5 columns</p>\n",
       "</div>"
      ],
      "text/plain": [
       "                 Open       High        Low      Close        Volume\n",
       "Date                                                                \n",
       "1962-01-02    5.04610    5.04610    4.98716    4.98716  5.935630e+05\n",
       "1962-01-03    4.98716    5.03292    4.98716    5.03292  4.451750e+05\n",
       "1962-01-04    5.03292    5.03292    4.98052    4.98052  3.995136e+05\n",
       "1962-01-05    4.97389    4.97389    4.87511    4.88166  5.593215e+05\n",
       "1962-01-08    4.88166    4.88166    4.75059    4.78972  8.332738e+05\n",
       "...               ...        ...        ...        ...           ...\n",
       "2023-10-05  140.90000  141.70000  140.19000  141.52000  3.223910e+06\n",
       "2023-10-06  141.40000  142.94000  140.11000  142.03000  3.511347e+06\n",
       "2023-10-09  142.30000  142.40000  140.68000  142.20000  2.354396e+06\n",
       "2023-10-10  142.60000  143.41500  141.72000  142.11000  3.015784e+06\n",
       "2023-10-11  142.51000  143.34000  142.14000  143.23000  2.511459e+06\n",
       "\n",
       "[15546 rows x 5 columns]"
      ]
     },
     "execution_count": 63,
     "metadata": {},
     "output_type": "execute_result"
    }
   ],
   "source": [
    "stocks = stocks_df.copy()\n",
    "stocks"
   ]
  },
  {
   "cell_type": "code",
   "execution_count": 66,
   "id": "442dcaf8-1e82-430b-b8c4-49193f5a3656",
   "metadata": {},
   "outputs": [
    {
     "data": {
      "text/plain": [
       "DatetimeIndex(['1962-01-31', '1962-01-31', '1962-01-31', '1962-01-31',\n",
       "               '1962-01-31', '1962-01-31', '1962-01-31', '1962-01-31',\n",
       "               '1962-01-31', '1962-01-31',\n",
       "               ...\n",
       "               '2023-09-30', '2023-09-30', '2023-10-31', '2023-10-31',\n",
       "               '2023-10-31', '2023-10-31', '2023-10-31', '2023-10-31',\n",
       "               '2023-10-31', '2023-10-31'],\n",
       "              dtype='datetime64[ns]', name='Date', length=15546, freq=None)"
      ]
     },
     "execution_count": 66,
     "metadata": {},
     "output_type": "execute_result"
    }
   ],
   "source": [
    "stocks.index + pd.tseries.offsets.MonthEnd()"
   ]
  },
  {
   "cell_type": "code",
   "execution_count": 67,
   "id": "72080e5f-75d1-4de0-891d-1187639a7697",
   "metadata": {},
   "outputs": [
    {
     "data": {
      "text/plain": [
       "DatetimeIndex(['1962-04-01', '1962-04-01', '1962-04-01', '1962-04-01',\n",
       "               '1962-04-01', '1962-04-01', '1962-04-01', '1962-04-01',\n",
       "               '1962-04-01', '1962-04-01',\n",
       "               ...\n",
       "               '2023-10-01', '2023-10-01', '2024-01-01', '2024-01-01',\n",
       "               '2024-01-01', '2024-01-01', '2024-01-01', '2024-01-01',\n",
       "               '2024-01-01', '2024-01-01'],\n",
       "              dtype='datetime64[ns]', name='Date', length=15546, freq=None)"
      ]
     },
     "execution_count": 67,
     "metadata": {},
     "output_type": "execute_result"
    }
   ],
   "source": [
    "stocks.index + pd.tseries.offsets.QuarterBegin(startingMonth=1) # to next quarter"
   ]
  },
  {
   "cell_type": "code",
   "execution_count": 69,
   "id": "e7a72310-a4d9-4319-b905-239b7e021168",
   "metadata": {},
   "outputs": [
    {
     "data": {
      "text/plain": [
       "DatetimeIndex(['1962-01-01', '1962-01-01', '1962-01-01', '1962-01-01',\n",
       "               '1962-01-01', '1962-01-01', '1962-01-01', '1962-01-01',\n",
       "               '1962-01-01', '1962-01-01',\n",
       "               ...\n",
       "               '2023-01-01', '2023-01-01', '2023-01-01', '2023-01-01',\n",
       "               '2023-01-01', '2023-01-01', '2023-01-01', '2023-01-01',\n",
       "               '2023-01-01', '2023-01-01'],\n",
       "              dtype='datetime64[ns]', name='Date', length=15546, freq=None)"
      ]
     },
     "execution_count": 69,
     "metadata": {},
     "output_type": "execute_result"
    }
   ],
   "source": [
    "stocks.index - pd.tseries.offsets.YearBegin()"
   ]
  },
  {
   "cell_type": "markdown",
   "id": "c872fa80-9af8-49a2-9f63-acf00d89c38d",
   "metadata": {},
   "source": [
    "## Timedeltas\n",
    "\n",
    "- A **Timedelta** is a pandas object that represents a duration (an amount of time).\n",
    "- Subtracting two **Timestamp** objects will yield a **Timedelta** object (this applies to subtracting a **Series** from another **Series**).\n",
    "- The **Timedelta** constructor accepts parameters for time as well as string descriptions.\n"
   ]
  },
  {
   "cell_type": "code",
   "execution_count": 70,
   "id": "f3146bb8-f5d7-4b1d-a031-af64fc753b1a",
   "metadata": {},
   "outputs": [
    {
     "data": {
      "text/html": [
       "<div>\n",
       "<style scoped>\n",
       "    .dataframe tbody tr th:only-of-type {\n",
       "        vertical-align: middle;\n",
       "    }\n",
       "\n",
       "    .dataframe tbody tr th {\n",
       "        vertical-align: top;\n",
       "    }\n",
       "\n",
       "    .dataframe thead th {\n",
       "        text-align: right;\n",
       "    }\n",
       "</style>\n",
       "<table border=\"1\" class=\"dataframe\">\n",
       "  <thead>\n",
       "    <tr style=\"text-align: right;\">\n",
       "      <th></th>\n",
       "      <th>Open</th>\n",
       "      <th>High</th>\n",
       "      <th>Low</th>\n",
       "      <th>Close</th>\n",
       "      <th>Volume</th>\n",
       "    </tr>\n",
       "    <tr>\n",
       "      <th>Date</th>\n",
       "      <th></th>\n",
       "      <th></th>\n",
       "      <th></th>\n",
       "      <th></th>\n",
       "      <th></th>\n",
       "    </tr>\n",
       "  </thead>\n",
       "  <tbody>\n",
       "    <tr>\n",
       "      <th>1962-01-02</th>\n",
       "      <td>5.04610</td>\n",
       "      <td>5.04610</td>\n",
       "      <td>4.98716</td>\n",
       "      <td>4.98716</td>\n",
       "      <td>5.935630e+05</td>\n",
       "    </tr>\n",
       "    <tr>\n",
       "      <th>1962-01-03</th>\n",
       "      <td>4.98716</td>\n",
       "      <td>5.03292</td>\n",
       "      <td>4.98716</td>\n",
       "      <td>5.03292</td>\n",
       "      <td>4.451750e+05</td>\n",
       "    </tr>\n",
       "    <tr>\n",
       "      <th>1962-01-04</th>\n",
       "      <td>5.03292</td>\n",
       "      <td>5.03292</td>\n",
       "      <td>4.98052</td>\n",
       "      <td>4.98052</td>\n",
       "      <td>3.995136e+05</td>\n",
       "    </tr>\n",
       "    <tr>\n",
       "      <th>1962-01-05</th>\n",
       "      <td>4.97389</td>\n",
       "      <td>4.97389</td>\n",
       "      <td>4.87511</td>\n",
       "      <td>4.88166</td>\n",
       "      <td>5.593215e+05</td>\n",
       "    </tr>\n",
       "    <tr>\n",
       "      <th>1962-01-08</th>\n",
       "      <td>4.88166</td>\n",
       "      <td>4.88166</td>\n",
       "      <td>4.75059</td>\n",
       "      <td>4.78972</td>\n",
       "      <td>8.332738e+05</td>\n",
       "    </tr>\n",
       "    <tr>\n",
       "      <th>...</th>\n",
       "      <td>...</td>\n",
       "      <td>...</td>\n",
       "      <td>...</td>\n",
       "      <td>...</td>\n",
       "      <td>...</td>\n",
       "    </tr>\n",
       "    <tr>\n",
       "      <th>2023-10-05</th>\n",
       "      <td>140.90000</td>\n",
       "      <td>141.70000</td>\n",
       "      <td>140.19000</td>\n",
       "      <td>141.52000</td>\n",
       "      <td>3.223910e+06</td>\n",
       "    </tr>\n",
       "    <tr>\n",
       "      <th>2023-10-06</th>\n",
       "      <td>141.40000</td>\n",
       "      <td>142.94000</td>\n",
       "      <td>140.11000</td>\n",
       "      <td>142.03000</td>\n",
       "      <td>3.511347e+06</td>\n",
       "    </tr>\n",
       "    <tr>\n",
       "      <th>2023-10-09</th>\n",
       "      <td>142.30000</td>\n",
       "      <td>142.40000</td>\n",
       "      <td>140.68000</td>\n",
       "      <td>142.20000</td>\n",
       "      <td>2.354396e+06</td>\n",
       "    </tr>\n",
       "    <tr>\n",
       "      <th>2023-10-10</th>\n",
       "      <td>142.60000</td>\n",
       "      <td>143.41500</td>\n",
       "      <td>141.72000</td>\n",
       "      <td>142.11000</td>\n",
       "      <td>3.015784e+06</td>\n",
       "    </tr>\n",
       "    <tr>\n",
       "      <th>2023-10-11</th>\n",
       "      <td>142.51000</td>\n",
       "      <td>143.34000</td>\n",
       "      <td>142.14000</td>\n",
       "      <td>143.23000</td>\n",
       "      <td>2.511459e+06</td>\n",
       "    </tr>\n",
       "  </tbody>\n",
       "</table>\n",
       "<p>15546 rows × 5 columns</p>\n",
       "</div>"
      ],
      "text/plain": [
       "                 Open       High        Low      Close        Volume\n",
       "Date                                                                \n",
       "1962-01-02    5.04610    5.04610    4.98716    4.98716  5.935630e+05\n",
       "1962-01-03    4.98716    5.03292    4.98716    5.03292  4.451750e+05\n",
       "1962-01-04    5.03292    5.03292    4.98052    4.98052  3.995136e+05\n",
       "1962-01-05    4.97389    4.97389    4.87511    4.88166  5.593215e+05\n",
       "1962-01-08    4.88166    4.88166    4.75059    4.78972  8.332738e+05\n",
       "...               ...        ...        ...        ...           ...\n",
       "2023-10-05  140.90000  141.70000  140.19000  141.52000  3.223910e+06\n",
       "2023-10-06  141.40000  142.94000  140.11000  142.03000  3.511347e+06\n",
       "2023-10-09  142.30000  142.40000  140.68000  142.20000  2.354396e+06\n",
       "2023-10-10  142.60000  143.41500  141.72000  142.11000  3.015784e+06\n",
       "2023-10-11  142.51000  143.34000  142.14000  143.23000  2.511459e+06\n",
       "\n",
       "[15546 rows x 5 columns]"
      ]
     },
     "execution_count": 70,
     "metadata": {},
     "output_type": "execute_result"
    }
   ],
   "source": [
    "stocks = stocks_df.copy()\n",
    "stocks"
   ]
  },
  {
   "cell_type": "code",
   "execution_count": 72,
   "id": "3751acbe-0b24-49d3-84f9-94fe93012375",
   "metadata": {},
   "outputs": [
    {
     "data": {
      "text/plain": [
       "Timedelta('10 days 17:04:49')"
      ]
     },
     "execution_count": 72,
     "metadata": {},
     "output_type": "execute_result"
    }
   ],
   "source": [
    "pd.Timestamp(\"2023-03-31 12:30:48\") - pd.Timestamp(\"2023-03-20 19:25:59\")"
   ]
  },
  {
   "cell_type": "code",
   "execution_count": 73,
   "id": "5c61cd8a-14c6-4486-9c41-05a1d7a546f7",
   "metadata": {},
   "outputs": [
    {
     "data": {
      "text/plain": [
       "Timedelta('-11 days +06:55:11')"
      ]
     },
     "execution_count": 73,
     "metadata": {},
     "output_type": "execute_result"
    }
   ],
   "source": [
    "pd.Timestamp(\"2023-03-20 19:25:59\") - pd.Timestamp(\"2023-03-31 12:30:48\")"
   ]
  },
  {
   "cell_type": "code",
   "execution_count": 74,
   "id": "a0be4b62-2017-466f-b22c-e56406f729b7",
   "metadata": {},
   "outputs": [
    {
     "data": {
      "text/plain": [
       "Timestamp('2023-03-23 00:00:00')"
      ]
     },
     "execution_count": 74,
     "metadata": {},
     "output_type": "execute_result"
    }
   ],
   "source": [
    "pd.Timedelta(days=3) + pd.Timestamp(\"2023-03-20\")"
   ]
  },
  {
   "cell_type": "code",
   "execution_count": 75,
   "id": "7427934c-30bb-4f2f-9aa6-cb4579ca8b02",
   "metadata": {},
   "outputs": [
    {
     "data": {
      "text/plain": [
       "DatetimeIndex(['1962-01-05', '1962-01-06', '1962-01-07', '1962-01-08',\n",
       "               '1962-01-11', '1962-01-12', '1962-01-13', '1962-01-14',\n",
       "               '1962-01-15', '1962-01-18',\n",
       "               ...\n",
       "               '2023-10-01', '2023-10-02', '2023-10-05', '2023-10-06',\n",
       "               '2023-10-07', '2023-10-08', '2023-10-09', '2023-10-12',\n",
       "               '2023-10-13', '2023-10-14'],\n",
       "              dtype='datetime64[ns]', name='Date', length=15546, freq=None)"
      ]
     },
     "execution_count": 75,
     "metadata": {},
     "output_type": "execute_result"
    }
   ],
   "source": [
    "stocks.index + pd.Timedelta(days=3)"
   ]
  },
  {
   "cell_type": "code",
   "execution_count": 77,
   "id": "47adcabe-713c-43f5-a67f-e0327897a0f0",
   "metadata": {},
   "outputs": [
    {
     "data": {
      "text/plain": [
       "Timedelta('3 days 02:05:00')"
      ]
     },
     "execution_count": 77,
     "metadata": {},
     "output_type": "execute_result"
    }
   ],
   "source": [
    "pd.Timedelta(\"3 days 2 hours 5 minutes\") # jeez so human much magic wow"
   ]
  },
  {
   "cell_type": "code",
   "execution_count": 81,
   "id": "94c3de31-c841-4e8f-8174-d3b28c7f36fe",
   "metadata": {},
   "outputs": [
    {
     "data": {
      "text/html": [
       "<div>\n",
       "<style scoped>\n",
       "    .dataframe tbody tr th:only-of-type {\n",
       "        vertical-align: middle;\n",
       "    }\n",
       "\n",
       "    .dataframe tbody tr th {\n",
       "        vertical-align: top;\n",
       "    }\n",
       "\n",
       "    .dataframe thead th {\n",
       "        text-align: right;\n",
       "    }\n",
       "</style>\n",
       "<table border=\"1\" class=\"dataframe\">\n",
       "  <thead>\n",
       "    <tr style=\"text-align: right;\">\n",
       "      <th></th>\n",
       "      <th>order_date</th>\n",
       "      <th>delivery_date</th>\n",
       "    </tr>\n",
       "    <tr>\n",
       "      <th>ID</th>\n",
       "      <th></th>\n",
       "      <th></th>\n",
       "    </tr>\n",
       "  </thead>\n",
       "  <tbody>\n",
       "    <tr>\n",
       "      <th>1</th>\n",
       "      <td>1998-05-24</td>\n",
       "      <td>1999-02-05</td>\n",
       "    </tr>\n",
       "    <tr>\n",
       "      <th>2</th>\n",
       "      <td>1992-04-22</td>\n",
       "      <td>1998-03-06</td>\n",
       "    </tr>\n",
       "    <tr>\n",
       "      <th>4</th>\n",
       "      <td>1991-02-10</td>\n",
       "      <td>1992-08-26</td>\n",
       "    </tr>\n",
       "    <tr>\n",
       "      <th>5</th>\n",
       "      <td>1992-07-21</td>\n",
       "      <td>1997-11-20</td>\n",
       "    </tr>\n",
       "    <tr>\n",
       "      <th>7</th>\n",
       "      <td>1993-09-02</td>\n",
       "      <td>1998-06-10</td>\n",
       "    </tr>\n",
       "    <tr>\n",
       "      <th>...</th>\n",
       "      <td>...</td>\n",
       "      <td>...</td>\n",
       "    </tr>\n",
       "    <tr>\n",
       "      <th>990</th>\n",
       "      <td>1991-06-24</td>\n",
       "      <td>1996-02-02</td>\n",
       "    </tr>\n",
       "    <tr>\n",
       "      <th>991</th>\n",
       "      <td>1991-09-09</td>\n",
       "      <td>1998-03-30</td>\n",
       "    </tr>\n",
       "    <tr>\n",
       "      <th>993</th>\n",
       "      <td>1990-11-16</td>\n",
       "      <td>1998-04-27</td>\n",
       "    </tr>\n",
       "    <tr>\n",
       "      <th>994</th>\n",
       "      <td>1993-06-03</td>\n",
       "      <td>1993-06-13</td>\n",
       "    </tr>\n",
       "    <tr>\n",
       "      <th>997</th>\n",
       "      <td>1990-01-04</td>\n",
       "      <td>1991-10-03</td>\n",
       "    </tr>\n",
       "  </tbody>\n",
       "</table>\n",
       "<p>501 rows × 2 columns</p>\n",
       "</div>"
      ],
      "text/plain": [
       "    order_date delivery_date\n",
       "ID                          \n",
       "1   1998-05-24    1999-02-05\n",
       "2   1992-04-22    1998-03-06\n",
       "4   1991-02-10    1992-08-26\n",
       "5   1992-07-21    1997-11-20\n",
       "7   1993-09-02    1998-06-10\n",
       "..         ...           ...\n",
       "990 1991-06-24    1996-02-02\n",
       "991 1991-09-09    1998-03-30\n",
       "993 1990-11-16    1998-04-27\n",
       "994 1993-06-03    1993-06-13\n",
       "997 1990-01-04    1991-10-03\n",
       "\n",
       "[501 rows x 2 columns]"
      ]
     },
     "execution_count": 81,
     "metadata": {},
     "output_type": "execute_result"
    }
   ],
   "source": [
    "ecommerce_df = pd.read_csv(\"ecommerce.csv\", parse_dates=[\"order_date\", \"delivery_date\"], date_format=\"%m/%d/%y\", index_col=\"ID\")\n",
    "ecommerce = ecommerce_df.copy()\n",
    "ecommerce"
   ]
  },
  {
   "cell_type": "code",
   "execution_count": 83,
   "id": "77579fd6-0313-430e-8c63-4cc1be1b7295",
   "metadata": {},
   "outputs": [],
   "source": [
    "ecommerce[\"delivery_time\"] = ecommerce[\"delivery_date\"] - ecommerce[\"order_date\"]"
   ]
  },
  {
   "cell_type": "code",
   "execution_count": 84,
   "id": "ddd7a9c5-65ca-4075-bbaa-a08ebc2d2c63",
   "metadata": {},
   "outputs": [
    {
     "data": {
      "text/html": [
       "<div>\n",
       "<style scoped>\n",
       "    .dataframe tbody tr th:only-of-type {\n",
       "        vertical-align: middle;\n",
       "    }\n",
       "\n",
       "    .dataframe tbody tr th {\n",
       "        vertical-align: top;\n",
       "    }\n",
       "\n",
       "    .dataframe thead th {\n",
       "        text-align: right;\n",
       "    }\n",
       "</style>\n",
       "<table border=\"1\" class=\"dataframe\">\n",
       "  <thead>\n",
       "    <tr style=\"text-align: right;\">\n",
       "      <th></th>\n",
       "      <th>order_date</th>\n",
       "      <th>delivery_date</th>\n",
       "      <th>delivery_time</th>\n",
       "    </tr>\n",
       "    <tr>\n",
       "      <th>ID</th>\n",
       "      <th></th>\n",
       "      <th></th>\n",
       "      <th></th>\n",
       "    </tr>\n",
       "  </thead>\n",
       "  <tbody>\n",
       "    <tr>\n",
       "      <th>1</th>\n",
       "      <td>1998-05-24</td>\n",
       "      <td>1999-02-05</td>\n",
       "      <td>257 days</td>\n",
       "    </tr>\n",
       "    <tr>\n",
       "      <th>2</th>\n",
       "      <td>1992-04-22</td>\n",
       "      <td>1998-03-06</td>\n",
       "      <td>2144 days</td>\n",
       "    </tr>\n",
       "    <tr>\n",
       "      <th>4</th>\n",
       "      <td>1991-02-10</td>\n",
       "      <td>1992-08-26</td>\n",
       "      <td>563 days</td>\n",
       "    </tr>\n",
       "    <tr>\n",
       "      <th>5</th>\n",
       "      <td>1992-07-21</td>\n",
       "      <td>1997-11-20</td>\n",
       "      <td>1948 days</td>\n",
       "    </tr>\n",
       "    <tr>\n",
       "      <th>7</th>\n",
       "      <td>1993-09-02</td>\n",
       "      <td>1998-06-10</td>\n",
       "      <td>1742 days</td>\n",
       "    </tr>\n",
       "    <tr>\n",
       "      <th>...</th>\n",
       "      <td>...</td>\n",
       "      <td>...</td>\n",
       "      <td>...</td>\n",
       "    </tr>\n",
       "    <tr>\n",
       "      <th>990</th>\n",
       "      <td>1991-06-24</td>\n",
       "      <td>1996-02-02</td>\n",
       "      <td>1684 days</td>\n",
       "    </tr>\n",
       "    <tr>\n",
       "      <th>991</th>\n",
       "      <td>1991-09-09</td>\n",
       "      <td>1998-03-30</td>\n",
       "      <td>2394 days</td>\n",
       "    </tr>\n",
       "    <tr>\n",
       "      <th>993</th>\n",
       "      <td>1990-11-16</td>\n",
       "      <td>1998-04-27</td>\n",
       "      <td>2719 days</td>\n",
       "    </tr>\n",
       "    <tr>\n",
       "      <th>994</th>\n",
       "      <td>1993-06-03</td>\n",
       "      <td>1993-06-13</td>\n",
       "      <td>10 days</td>\n",
       "    </tr>\n",
       "    <tr>\n",
       "      <th>997</th>\n",
       "      <td>1990-01-04</td>\n",
       "      <td>1991-10-03</td>\n",
       "      <td>637 days</td>\n",
       "    </tr>\n",
       "  </tbody>\n",
       "</table>\n",
       "<p>501 rows × 3 columns</p>\n",
       "</div>"
      ],
      "text/plain": [
       "    order_date delivery_date delivery_time\n",
       "ID                                        \n",
       "1   1998-05-24    1999-02-05      257 days\n",
       "2   1992-04-22    1998-03-06     2144 days\n",
       "4   1991-02-10    1992-08-26      563 days\n",
       "5   1992-07-21    1997-11-20     1948 days\n",
       "7   1993-09-02    1998-06-10     1742 days\n",
       "..         ...           ...           ...\n",
       "990 1991-06-24    1996-02-02     1684 days\n",
       "991 1991-09-09    1998-03-30     2394 days\n",
       "993 1990-11-16    1998-04-27     2719 days\n",
       "994 1993-06-03    1993-06-13       10 days\n",
       "997 1990-01-04    1991-10-03      637 days\n",
       "\n",
       "[501 rows x 3 columns]"
      ]
     },
     "execution_count": 84,
     "metadata": {},
     "output_type": "execute_result"
    }
   ],
   "source": [
    "ecommerce"
   ]
  }
 ],
 "metadata": {
  "kernelspec": {
   "display_name": "myenv",
   "language": "python",
   "name": "myenv"
  },
  "language_info": {
   "codemirror_mode": {
    "name": "ipython",
    "version": 3
   },
   "file_extension": ".py",
   "mimetype": "text/x-python",
   "name": "python",
   "nbconvert_exporter": "python",
   "pygments_lexer": "ipython3",
   "version": "3.13.1"
  }
 },
 "nbformat": 4,
 "nbformat_minor": 5
}
