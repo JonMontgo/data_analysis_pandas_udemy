{
 "cells": [
  {
   "cell_type": "markdown",
   "id": "e0e81b55-1e42-4f57-8b71-edcf5dac7884",
   "metadata": {},
   "source": [
    "# DataFrames I"
   ]
  },
  {
   "cell_type": "markdown",
   "id": "85a69ecf-fe5a-4066-a9fc-cc6e5d1b8096",
   "metadata": {},
   "source": [
    "- A 2d table consisting of rows and columns\n",
    "- `NaN` are for missing values\n",
    "- `hasnans` attribute exists only on series. `columns` exists onli on a dataframe\n",
    "- `info` method returns a summary of the pandas object"
   ]
  }
 ],
 "metadata": {
  "kernelspec": {
   "display_name": "myenv",
   "language": "python",
   "name": "myenv"
  },
  "language_info": {
   "codemirror_mode": {
    "name": "ipython",
    "version": 3
   },
   "file_extension": ".py",
   "mimetype": "text/x-python",
   "name": "python",
   "nbconvert_exporter": "python",
   "pygments_lexer": "ipython3",
   "version": "3.13.1"
  }
 },
 "nbformat": 4,
 "nbformat_minor": 5
}
