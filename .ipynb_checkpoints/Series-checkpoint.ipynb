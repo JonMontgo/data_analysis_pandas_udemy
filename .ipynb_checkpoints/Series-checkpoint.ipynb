{
 "cells": [
  {
   "cell_type": "markdown",
   "id": "c79a41bf-7fbc-452f-9876-c75f3e7d5647",
   "metadata": {},
   "source": [
    "# Series\n",
    "\n",
    "- Series are like a single column of data\n",
    "- Series combine the best parts of lists and"
   ]
  },
  {
   "cell_type": "code",
   "execution_count": 2,
   "id": "96bc1682-9e9b-415e-b19d-47b10e13cf05",
   "metadata": {},
   "outputs": [],
   "source": [
    "import pandas as pd"
   ]
  },
  {
   "cell_type": "code",
   "execution_count": 5,
   "id": "a319657a-5b60-4599-b381-51b13b322f6c",
   "metadata": {},
   "outputs": [
    {
     "data": {
      "text/plain": [
       "0     Chocolate\n",
       "1       Vanilla\n",
       "2    Strawberry\n",
       "3    Rum Raisin\n",
       "dtype: object"
      ]
     },
     "execution_count": 5,
     "metadata": {},
     "output_type": "execute_result"
    }
   ],
   "source": [
    "ice_cream = [\"Chocolate\", \"Vanilla\", \"Strawberry\", \"Rum Raisin\"]\n",
    "\n",
    "ice_cream_series = pd.Series(ice_cream)"
   ]
  },
  {
   "cell_type": "code",
   "execution_count": 7,
   "id": "2ced497c-5682-483e-826e-467a4417ab4b",
   "metadata": {},
   "outputs": [
    {
     "data": {
      "text/plain": [
       "0     4\n",
       "1     8\n",
       "2    15\n",
       "3    16\n",
       "4    23\n",
       "5    42\n",
       "dtype: int64"
      ]
     },
     "execution_count": 7,
     "metadata": {},
     "output_type": "execute_result"
    }
   ],
   "source": [
    "lottery_numbers = [4,8,15,16,23,42]\n",
    "pd.Series(lottery_numbers)"
   ]
  },
  {
   "cell_type": "markdown",
   "id": "5b07a5d9-bbb1-4516-bc72-f091327c814b",
   "metadata": {},
   "source": [
    "## Series from Dicts"
   ]
  },
  {
   "cell_type": "code",
   "execution_count": 12,
   "id": "0c74ec9b-80ba-4823-b1b8-ae113ac1a19e",
   "metadata": {},
   "outputs": [
    {
     "data": {
      "text/plain": [
       "Salmon    Orange\n",
       "Tuna         Red\n",
       "Eel        Brown\n",
       "dtype: object"
      ]
     },
     "execution_count": 12,
     "metadata": {},
     "output_type": "execute_result"
    }
   ],
   "source": [
    "sushi = {\n",
    "    \"Salmon\": \"Orange\",\n",
    "    \"Tuna\": \"Red\",\n",
    "    \"Eel\": \"Brown\"\n",
    "}\n",
    "pd.Series(sushi)"
   ]
  },
  {
   "cell_type": "markdown",
   "id": "eab3fb0b-1559-4541-a723-0912fc7ce444",
   "metadata": {},
   "source": [
    "- Pandas series object is actually kept in order unlike a regular python dictionary\n",
    "- Keys are index labels of series so index numbers are not implicitly generated to\n",
    "access the values"
   ]
  },
  {
   "cell_type": "markdown",
   "id": "1c16bc6f-ebdc-4fda-a3b8-64262172c24b",
   "metadata": {},
   "source": [
    "## Series Methods Intro"
   ]
  },
  {
   "cell_type": "code",
   "execution_count": 15,
   "id": "2b800d27-eaef-4cf8-a12d-549972381437",
   "metadata": {},
   "outputs": [
    {
     "data": {
      "text/plain": [
       "0    2.99\n",
       "1    4.45\n",
       "2    1.36\n",
       "dtype: float64"
      ]
     },
     "execution_count": 15,
     "metadata": {},
     "output_type": "execute_result"
    }
   ],
   "source": [
    "prices = pd.Series([2.99, 4.45, 1.36])\n",
    "prices"
   ]
  },
  {
   "cell_type": "code",
   "execution_count": 16,
   "id": "8a9450a2-dc1c-474d-973b-2a1f307ffe99",
   "metadata": {},
   "outputs": [
    {
     "data": {
      "text/plain": [
       "np.float64(8.8)"
      ]
     },
     "execution_count": 16,
     "metadata": {},
     "output_type": "execute_result"
    }
   ],
   "source": [
    "prices.sum()"
   ]
  },
  {
   "cell_type": "code",
   "execution_count": 17,
   "id": "cbf2e216-b590-41de-af0a-315a6c029d62",
   "metadata": {},
   "outputs": [
    {
     "data": {
      "text/plain": [
       "np.float64(18.095480000000006)"
      ]
     },
     "execution_count": 17,
     "metadata": {},
     "output_type": "execute_result"
    }
   ],
   "source": [
    "prices.product()"
   ]
  },
  {
   "cell_type": "code",
   "execution_count": 18,
   "id": "accbb51e-50c1-4046-9a07-3a668f16cfb7",
   "metadata": {},
   "outputs": [
    {
     "data": {
      "text/plain": [
       "np.float64(2.9333333333333336)"
      ]
     },
     "execution_count": 18,
     "metadata": {},
     "output_type": "execute_result"
    }
   ],
   "source": [
    "# Average\n",
    "prices.mean()"
   ]
  },
  {
   "cell_type": "code",
   "execution_count": 19,
   "id": "8eceeab8-55e5-41e1-859b-85d23ebf85cb",
   "metadata": {},
   "outputs": [
    {
     "data": {
      "text/plain": [
       "np.float64(1.5457791994115246)"
      ]
     },
     "execution_count": 19,
     "metadata": {},
     "output_type": "execute_result"
    }
   ],
   "source": [
    "# Standard Deviation\n",
    "prices.std()"
   ]
  },
  {
   "cell_type": "markdown",
   "id": "11a41bbb-831f-4015-8f6f-e45130f53dbc",
   "metadata": {},
   "source": [
    "## Series Attributes Intro"
   ]
  },
  {
   "cell_type": "code",
   "execution_count": 28,
   "id": "e7c1bc40-31aa-4472-b6ed-89da501fe494",
   "metadata": {},
   "outputs": [],
   "source": [
    "adjectives = pd.Series([\"Smart\", \"Handsome\", \"Charming\", \"Brilliant\", \"Humble\", \"Smart\"])"
   ]
  },
  {
   "cell_type": "code",
   "execution_count": 29,
   "id": "0f2d2f32-eac1-4ed6-ae9d-5aaac8581937",
   "metadata": {},
   "outputs": [
    {
     "data": {
      "text/plain": [
       "6"
      ]
     },
     "execution_count": 29,
     "metadata": {},
     "output_type": "execute_result"
    }
   ],
   "source": [
    "adjectives.size"
   ]
  },
  {
   "cell_type": "code",
   "execution_count": 30,
   "id": "4d283fa0-6d51-40c3-bc24-11af2e3e9339",
   "metadata": {},
   "outputs": [
    {
     "data": {
      "text/plain": [
       "False"
      ]
     },
     "execution_count": 30,
     "metadata": {},
     "output_type": "execute_result"
    }
   ],
   "source": [
    "adjectives.is_unique"
   ]
  },
  {
   "cell_type": "code",
   "execution_count": 35,
   "id": "d0b6d608-d62d-4eb7-991d-47e3b4f4465e",
   "metadata": {},
   "outputs": [
    {
     "data": {
      "text/plain": [
       "(array(['Smart', 'Handsome', 'Charming', 'Brilliant', 'Humble', 'Smart'],\n",
       "       dtype=object),\n",
       " RangeIndex(start=0, stop=6, step=1))"
      ]
     },
     "execution_count": 35,
     "metadata": {},
     "output_type": "execute_result"
    }
   ],
   "source": [
    "# Pandas series are composed of several objects in here we see how the\n",
    "# Series is composed of the values and index objects\n",
    "\n",
    "(adjectives.values, # Get back original object,\n",
    "adjectives.index) # Get back objects index object"
   ]
  },
  {
   "cell_type": "code",
   "execution_count": 40,
   "id": "eb03edfb-724f-42b4-8d96-e7b9470162f8",
   "metadata": {},
   "outputs": [
    {
     "data": {
      "text/plain": [
       "numpy.ndarray"
      ]
     },
     "execution_count": 40,
     "metadata": {},
     "output_type": "execute_result"
    }
   ],
   "source": [
    "type(adjectives.values) # Pandas composes a numpy data structure ndarray"
   ]
  },
  {
   "cell_type": "code",
   "execution_count": 43,
   "id": "f5d2e3fa-8a5f-430f-8755-99d0d24775a8",
   "metadata": {},
   "outputs": [
    {
     "data": {
      "text/plain": [
       "pandas.core.indexes.range.RangeIndex"
      ]
     },
     "execution_count": 43,
     "metadata": {},
     "output_type": "execute_result"
    }
   ],
   "source": [
    "type(adjectives.index)"
   ]
  },
  {
   "cell_type": "markdown",
   "id": "73e0e22f-1091-4379-b91d-7fcdd2b09ecb",
   "metadata": {},
   "source": [
    "# Series Params"
   ]
  },
  {
   "cell_type": "code",
   "execution_count": 45,
   "id": "c2738f64-ad4c-4e09-b867-bff7163a87d6",
   "metadata": {},
   "outputs": [
    {
     "data": {
      "text/plain": [
       "Monday            Apple\n",
       "Tuesday          Orange\n",
       "Wednesday         Plumb\n",
       "Thursday          Grape\n",
       "Friday        Blueberry\n",
       "Monday       Watermelon\n",
       "dtype: object"
      ]
     },
     "execution_count": 45,
     "metadata": {},
     "output_type": "execute_result"
    }
   ],
   "source": [
    "fruits = [\"Apple\", \"Orange\", \"Plumb\", \"Grape\", \"Blueberry\", \"Watermelon\"]\n",
    "weekdays = [\"Monday\", \"Tuesday\", \"Wednesday\", \"Thursday\", \"Friday\", \"Monday\"]\n",
    "\n",
    "pd.Series(fruits, weekdays)\n",
    "pd.Series(data=fruits, index=weekdays)"
   ]
  },
  {
   "cell_type": "markdown",
   "id": "16dbc8f3-e5e5-45bd-a887-633629baa976",
   "metadata": {},
   "source": [
    "## Load Datasets"
   ]
  },
  {
   "cell_type": "code",
   "execution_count": 25,
   "id": "0d169097-e5a1-41fb-b347-13b01c32bc1f",
   "metadata": {},
   "outputs": [
    {
     "data": {
      "text/plain": [
       "0          Bulbasaur\n",
       "1            Ivysaur\n",
       "2           Venusaur\n",
       "3         Charmander\n",
       "4         Charmeleon\n",
       "            ...     \n",
       "1005    Iron Valiant\n",
       "1006        Koraidon\n",
       "1007        Miraidon\n",
       "1008    Walking Wake\n",
       "1009     Iron Leaves\n",
       "Name: Name, Length: 1010, dtype: object"
      ]
     },
     "execution_count": 25,
     "metadata": {},
     "output_type": "execute_result"
    }
   ],
   "source": [
    "pokemon = pd.read_csv(\"pokemon.csv\", usecols=['Name']).squeeze(\"columns\")\n",
    "pokemon"
   ]
  },
  {
   "cell_type": "code",
   "execution_count": 4,
   "id": "1e39ec69-4fe3-4493-9e1a-f5648d765ae1",
   "metadata": {},
   "outputs": [
    {
     "data": {
      "text/plain": [
       "0         2.490664\n",
       "1         2.515820\n",
       "2         2.758411\n",
       "3         2.770615\n",
       "4         2.614201\n",
       "           ...    \n",
       "4788    132.080002\n",
       "4789    132.998001\n",
       "4790    135.570007\n",
       "4791    137.050003\n",
       "4792    138.429993\n",
       "Name: Price, Length: 4793, dtype: float64"
      ]
     },
     "execution_count": 4,
     "metadata": {},
     "output_type": "execute_result"
    }
   ],
   "source": [
    "google = pd.read_csv(\"google_stock_price.csv\", usecols=['Price']).squeeze(\"columns\")\n",
    "google"
   ]
  },
  {
   "cell_type": "markdown",
   "id": "6e8ebc78-6627-4677-ad05-259d6d3799f7",
   "metadata": {},
   "source": [
    "## The Head and Tail Method"
   ]
  },
  {
   "cell_type": "code",
   "execution_count": 5,
   "id": "0e66201b-a224-4913-a2bb-e1eb1f6fed17",
   "metadata": {},
   "outputs": [
    {
     "data": {
      "text/plain": [
       "(0     Bulbasaur\n",
       " 1       Ivysaur\n",
       " 2      Venusaur\n",
       " 3    Charmander\n",
       " 4    Charmeleon\n",
       " 5     Charizard\n",
       " 6      Squirtle\n",
       " 7     Wartortle\n",
       " 8     Blastoise\n",
       " 9      Caterpie\n",
       " Name: Name, dtype: object,\n",
       " 1000        Wo-Chien\n",
       " 1001       Chien-Pao\n",
       " 1002         Ting-Lu\n",
       " 1003          Chi-Yu\n",
       " 1004    Roaring Moon\n",
       " 1005    Iron Valiant\n",
       " 1006        Koraidon\n",
       " 1007        Miraidon\n",
       " 1008    Walking Wake\n",
       " 1009     Iron Leaves\n",
       " Name: Name, dtype: object)"
      ]
     },
     "execution_count": 5,
     "metadata": {},
     "output_type": "execute_result"
    }
   ],
   "source": [
    "(pokemon.head(10), pokemon.tail(10))"
   ]
  },
  {
   "cell_type": "markdown",
   "id": "846784f2-de9c-4f13-8486-c99d2da8bbb3",
   "metadata": {},
   "source": [
    "## Pandas and Python Built-Ins"
   ]
  },
  {
   "cell_type": "code",
   "execution_count": 64,
   "id": "faa77e7f-c3fc-4900-83e8-9d8ceaae5245",
   "metadata": {},
   "outputs": [
    {
     "name": "stdout",
     "output_type": "stream",
     "text": [
      "<class 'pandas.core.series.Series'>;\n",
      "['Bulbasaur', 'Ivysaur', 'Venusaur', 'Charmander', 'Charmeleon'];\n",
      "Bulbasaur;\n",
      "['Abomasnow', 'Abra', 'Absol', 'Accelgor', 'Aegislash'];\n",
      "Zygarde;\n",
      "Abomasnow;\n",
      "True;\n",
      "True;\n",
      "True\n"
     ]
    }
   ],
   "source": [
    "print(\n",
    "    type(pokemon),\n",
    "    list(pokemon)[0:5],\n",
    "    dict(pokemon)[0], # dict has number as key since series has num as key\n",
    "    sorted(pokemon)[0:5],\n",
    "    max(pokemon),\n",
    "    min(pokemon),\n",
    "    0 in pokemon,\n",
    "    0 in pokemon.index,\n",
    "    'Abra' in pokemon.values,\n",
    "    sep=\";\\n\"\n",
    ")"
   ]
  },
  {
   "cell_type": "markdown",
   "id": "3551bd8c-0a73-4620-8219-23c0877a4aa0",
   "metadata": {},
   "source": [
    "## The sort_values Method"
   ]
  },
  {
   "cell_type": "code",
   "execution_count": 75,
   "id": "11c4a688-d0ed-469d-a909-feeaaba86de8",
   "metadata": {},
   "outputs": [
    {
     "name": "stdout",
     "output_type": "stream",
     "text": [
      "10    2.470490\n",
      "0     2.490664\n",
      "13    2.509095\n",
      "11    2.514326\n",
      "12    2.515820\n",
      "Name: Price, dtype: float64;\n",
      "4395    151.863495\n",
      "4345    151.000000\n",
      "4346    150.141754\n",
      "4336    150.000000\n",
      "4341    150.000000\n",
      "Name: Price, dtype: float64\n"
     ]
    }
   ],
   "source": [
    "print(\n",
    "    google.sort_values(ascending=True).head(), \n",
    "    google.sort_values(ascending=False).head(), \n",
    "    sep=\";\\n\"\n",
    ")"
   ]
  },
  {
   "cell_type": "markdown",
   "id": "5dbbdb63-c2f6-4dc2-9a52-abb727553633",
   "metadata": {},
   "source": [
    "## The sort_index Method"
   ]
  },
  {
   "cell_type": "code",
   "execution_count": 7,
   "id": "b9c31465-b11a-42ad-baaf-809a16f87897",
   "metadata": {},
   "outputs": [
    {
     "data": {
      "text/plain": [
       "Name\n",
       "Bulbasaur     Grass, Poison\n",
       "Ivysaur       Grass, Poison\n",
       "Venusaur      Grass, Poison\n",
       "Charmander             Fire\n",
       "Charmeleon             Fire\n",
       "Name: Type, dtype: object"
      ]
     },
     "execution_count": 7,
     "metadata": {},
     "output_type": "execute_result"
    }
   ],
   "source": [
    "pokemon_full_series = pd.read_csv(\"pokemon.csv\", index_col=\"Name\").squeeze(\"columns\")\n",
    "pokemon_full_series.head()"
   ]
  },
  {
   "cell_type": "code",
   "execution_count": 82,
   "id": "31eaa65c-4129-4c46-a74a-6c8125db110e",
   "metadata": {},
   "outputs": [
    {
     "data": {
      "text/plain": [
       "Name\n",
       "Abomasnow        Grass, Ice\n",
       "Abra                Psychic\n",
       "Absol                  Dark\n",
       "Accelgor                Bug\n",
       "Aegislash      Steel, Ghost\n",
       "                  ...      \n",
       "Zoroark                Dark\n",
       "Zorua                  Dark\n",
       "Zubat        Poison, Flying\n",
       "Zweilous       Dark, Dragon\n",
       "Zygarde      Dragon, Ground\n",
       "Name: Type, Length: 1010, dtype: object"
      ]
     },
     "execution_count": 82,
     "metadata": {},
     "output_type": "execute_result"
    }
   ],
   "source": [
    "pokemon_full_series.sort_index()"
   ]
  },
  {
   "cell_type": "markdown",
   "id": "4f7aebbc-c3b2-4abe-9aaf-e47effc892a2",
   "metadata": {},
   "source": [
    "## Extract Series Value by Index Position"
   ]
  },
  {
   "cell_type": "code",
   "execution_count": 83,
   "id": "a8bc6546-b661-4688-b685-b4c58755ac62",
   "metadata": {},
   "outputs": [
    {
     "data": {
      "text/plain": [
       "0     Bulbasaur\n",
       "1       Ivysaur\n",
       "2      Venusaur\n",
       "3    Charmander\n",
       "4    Charmeleon\n",
       "Name: Name, dtype: object"
      ]
     },
     "execution_count": 83,
     "metadata": {},
     "output_type": "execute_result"
    }
   ],
   "source": [
    "pokemon.head()"
   ]
  },
  {
   "cell_type": "code",
   "execution_count": 92,
   "id": "62e56edf-eb93-470e-9ea7-34b5620b160f",
   "metadata": {},
   "outputs": [
    {
     "name": "stdout",
     "output_type": "stream",
     "text": [
      "<pandas.core.indexing._iLocIndexer object at 0x7bab895433e0>;\n",
      "Bulbasaur;\n",
      "200         Unown\n",
      "201     Wobbuffet\n",
      "202     Girafarig\n",
      "203        Pineco\n",
      "204    Forretress\n",
      "Name: Name, dtype: object;\n",
      "100    Electrode\n",
      "200        Unown\n",
      "300     Delcatty\n",
      "Name: Name, dtype: object\n"
     ]
    }
   ],
   "source": [
    "print(pokemon.iloc, pokemon.iloc[0], pokemon.iloc[200:205], pokemon.iloc[[100,200,300]], sep=\";\\n\")"
   ]
  },
  {
   "cell_type": "markdown",
   "id": "33a2a605-c2de-4419-850d-c82130227672",
   "metadata": {},
   "source": [
    "## Extract Series Value by Index Label"
   ]
  },
  {
   "cell_type": "code",
   "execution_count": 94,
   "id": "4b1629ce-b381-4735-a1a2-54e1fc1fc1dd",
   "metadata": {},
   "outputs": [
    {
     "data": {
      "text/plain": [
       "'Grass, Poison'"
      ]
     },
     "execution_count": 94,
     "metadata": {},
     "output_type": "execute_result"
    }
   ],
   "source": [
    "pokemon_full_series.loc[\"Bulbasaur\"]"
   ]
  },
  {
   "cell_type": "code",
   "execution_count": 95,
   "id": "775642cf-887c-4680-b069-6bd5d991fbf0",
   "metadata": {},
   "outputs": [
    {
     "data": {
      "text/plain": [
       "Name\n",
       "Mewtwo            Psychic\n",
       "Mew               Psychic\n",
       "Lugia     Psychic, Flying\n",
       "Name: Type, dtype: object"
      ]
     },
     "execution_count": 95,
     "metadata": {},
     "output_type": "execute_result"
    }
   ],
   "source": [
    "pokemon_full_series.loc[[\"Mewtwo\", \"Mew\", \"Lugia\"]]"
   ]
  },
  {
   "cell_type": "markdown",
   "id": "98e984ab-9813-45d4-bb47-25ec474bd5e8",
   "metadata": {},
   "source": [
    "## The Get Method On a Series\n",
    "- Get allows for safe access to a value in a series by key, a `default` kwarg may be specified\n",
    "- Shouldn't be used for index positions ie `iloc`"
   ]
  },
  {
   "cell_type": "code",
   "execution_count": 99,
   "id": "10a97875-9777-4a58-83fa-9937227b4fb8",
   "metadata": {},
   "outputs": [
    {
     "name": "stdout",
     "output_type": "stream",
     "text": [
      "Fire, Flying None\n"
     ]
    }
   ],
   "source": [
    "print(pokemon_full_series.get(\"Moltres\"), pokemon_full_series.get(\"Augumon\"))"
   ]
  },
  {
   "cell_type": "code",
   "execution_count": 102,
   "id": "41b3fe67-3e94-4893-bc93-e5f94d1a05f9",
   "metadata": {},
   "outputs": [
    {
     "data": {
      "text/plain": [
       "'default in multi'"
      ]
     },
     "execution_count": 102,
     "metadata": {},
     "output_type": "execute_result"
    }
   ],
   "source": [
    "pokemon_full_series.get([\"Augumon\", \"Zapados\"], \"default in multi\")"
   ]
  },
  {
   "cell_type": "markdown",
   "id": "e3b7f2d5-6ffd-413d-aba2-7917ccbdf582",
   "metadata": {},
   "source": [
    "## Overwrite a Series Value"
   ]
  },
  {
   "cell_type": "code",
   "execution_count": 117,
   "id": "11c19f12-0237-4009-871a-8a4fe4c421da",
   "metadata": {},
   "outputs": [
    {
     "data": {
      "text/plain": [
       "0     Bulbasaur\n",
       "1       Hamomon\n",
       "2     HitmonHam\n",
       "3    Charmander\n",
       "4    Hamasauras\n",
       "Name: Name, dtype: object"
      ]
     },
     "execution_count": 117,
     "metadata": {},
     "output_type": "execute_result"
    }
   ],
   "source": [
    "pokemon_2 = pokemon.copy()\n",
    "pokemon_2.head()"
   ]
  },
  {
   "cell_type": "code",
   "execution_count": 105,
   "id": "2a91c82b-4760-46cd-b19f-0318467b8451",
   "metadata": {},
   "outputs": [],
   "source": [
    "pokemon_2.iloc[0] = \"Augumon\""
   ]
  },
  {
   "cell_type": "code",
   "execution_count": 108,
   "id": "47cba9e9-0924-47c6-95fc-f54dc97529a4",
   "metadata": {},
   "outputs": [
    {
     "data": {
      "text/plain": [
       "0       Augumon\n",
       "1       Ivysaur\n",
       "2      Venusaur\n",
       "3    Charmander\n",
       "4    Charmeleon\n",
       "Name: Name, dtype: object"
      ]
     },
     "execution_count": 108,
     "metadata": {},
     "output_type": "execute_result"
    }
   ],
   "source": [
    "pokemon_2.head()"
   ]
  },
  {
   "cell_type": "code",
   "execution_count": 112,
   "id": "11fe0be8-b0f7-4ab0-b159-c9d404effc96",
   "metadata": {},
   "outputs": [],
   "source": [
    "pokemon_2.iloc[[1,2,4]] = (\"Hamomon\", \"HitmonHam\", \"Hamasauras\")"
   ]
  },
  {
   "cell_type": "code",
   "execution_count": 120,
   "id": "17dfa248-c13f-4b29-9011-f989cce75da6",
   "metadata": {},
   "outputs": [
    {
     "data": {
      "text/plain": [
       "0     Bulbasaur\n",
       "1       Hamomon\n",
       "2     HitmonHam\n",
       "3    Charmander\n",
       "4    Hamasauras\n",
       "Name: Name, dtype: object"
      ]
     },
     "execution_count": 120,
     "metadata": {},
     "output_type": "execute_result"
    }
   ],
   "source": [
    "pokemon_2.head()"
   ]
  },
  {
   "cell_type": "code",
   "execution_count": 121,
   "id": "a699636e-b549-415d-809a-ff55621919ed",
   "metadata": {},
   "outputs": [
    {
     "data": {
      "text/plain": [
       "Name\n",
       "Bulbasaur     Grass, Poison\n",
       "Ivysaur       Grass, Poison\n",
       "Venusaur      Grass, Poison\n",
       "Charmander             Fire\n",
       "Charmeleon             Fire\n",
       "Name: Type, dtype: object"
      ]
     },
     "execution_count": 121,
     "metadata": {},
     "output_type": "execute_result"
    }
   ],
   "source": [
    "pokemon_2 = pokemon_full_series.copy()\n",
    "pokemon_2.head()"
   ]
  },
  {
   "cell_type": "code",
   "execution_count": 122,
   "id": "651ceece-d735-4bec-8923-385c3f8b7b43",
   "metadata": {},
   "outputs": [],
   "source": [
    "pokemon_2.loc[\"Bulbasaur\"] = \"Fighting, Flying\""
   ]
  },
  {
   "cell_type": "code",
   "execution_count": 124,
   "id": "7ae9fbf2-4ad9-48f1-b2b8-4429025f5b03",
   "metadata": {},
   "outputs": [
    {
     "data": {
      "text/plain": [
       "Name\n",
       "Bulbasaur    Fighting, Flying\n",
       "Name: Type, dtype: object"
      ]
     },
     "execution_count": 124,
     "metadata": {},
     "output_type": "execute_result"
    }
   ],
   "source": [
    "pokemon_2.head(1)"
   ]
  },
  {
   "cell_type": "markdown",
   "id": "55506647-d6e6-4f09-a78c-e432ba36c35e",
   "metadata": {},
   "source": [
    "## The copy Method\n",
    "- `copy` creates a dupe of the original object\n",
    "- Some operations within pandas will return a view and not a copy\n",
    "- Changes to a view do change the original object\n",
    "  "
   ]
  },
  {
   "cell_type": "code",
   "execution_count": 135,
   "id": "9f77a9e9-ed06-4159-b3a5-fcf6d92b08e9",
   "metadata": {},
   "outputs": [],
   "source": [
    "pokemon_df = pd.read_csv(\"pokemon.csv\", usecols=[\"Name\"])\n",
    "# Just doing squeeze will give a view... if we do .copy method at end we can get a copy that we\n",
    "# can safely mutate\n",
    "poke_series = pokemon_df.squeeze(\"columns\")"
   ]
  },
  {
   "cell_type": "code",
   "execution_count": 136,
   "id": "3db24e6b-db09-4a48-964a-08442b70729e",
   "metadata": {},
   "outputs": [],
   "source": [
    "\"\"\"\n",
    "poke_series is a view of df pokemon_df... changing the view will modify the original\n",
    "dataframe\n",
    "\"\"\"\n",
    "poke_series.iloc[0] = \"Nougatmon\""
   ]
  },
  {
   "cell_type": "code",
   "execution_count": 137,
   "id": "578811b7-33cc-4297-afd3-a0cdf17f295d",
   "metadata": {},
   "outputs": [
    {
     "data": {
      "text/plain": [
       "0     Nougatmon\n",
       "1       Ivysaur\n",
       "2      Venusaur\n",
       "3    Charmander\n",
       "4    Charmeleon\n",
       "Name: Name, dtype: object"
      ]
     },
     "execution_count": 137,
     "metadata": {},
     "output_type": "execute_result"
    }
   ],
   "source": [
    "poke_series.head()"
   ]
  },
  {
   "cell_type": "code",
   "execution_count": 138,
   "id": "3d644d30-1244-4cfd-ab84-0b0ea2611b57",
   "metadata": {},
   "outputs": [
    {
     "data": {
      "text/html": [
       "<div>\n",
       "<style scoped>\n",
       "    .dataframe tbody tr th:only-of-type {\n",
       "        vertical-align: middle;\n",
       "    }\n",
       "\n",
       "    .dataframe tbody tr th {\n",
       "        vertical-align: top;\n",
       "    }\n",
       "\n",
       "    .dataframe thead th {\n",
       "        text-align: right;\n",
       "    }\n",
       "</style>\n",
       "<table border=\"1\" class=\"dataframe\">\n",
       "  <thead>\n",
       "    <tr style=\"text-align: right;\">\n",
       "      <th></th>\n",
       "      <th>Name</th>\n",
       "    </tr>\n",
       "  </thead>\n",
       "  <tbody>\n",
       "    <tr>\n",
       "      <th>0</th>\n",
       "      <td>Nougatmon</td>\n",
       "    </tr>\n",
       "    <tr>\n",
       "      <th>1</th>\n",
       "      <td>Ivysaur</td>\n",
       "    </tr>\n",
       "    <tr>\n",
       "      <th>2</th>\n",
       "      <td>Venusaur</td>\n",
       "    </tr>\n",
       "    <tr>\n",
       "      <th>3</th>\n",
       "      <td>Charmander</td>\n",
       "    </tr>\n",
       "    <tr>\n",
       "      <th>4</th>\n",
       "      <td>Charmeleon</td>\n",
       "    </tr>\n",
       "  </tbody>\n",
       "</table>\n",
       "</div>"
      ],
      "text/plain": [
       "         Name\n",
       "0   Nougatmon\n",
       "1     Ivysaur\n",
       "2    Venusaur\n",
       "3  Charmander\n",
       "4  Charmeleon"
      ]
     },
     "execution_count": 138,
     "metadata": {},
     "output_type": "execute_result"
    }
   ],
   "source": [
    "pokemon_df.head()"
   ]
  },
  {
   "cell_type": "markdown",
   "id": "676de824-5937-443b-8c4a-9e7e771304f4",
   "metadata": {},
   "source": [
    "# Math Methods on Series Objects\n",
    "- `count` return the number of values in series... excludes missing values\n",
    "- `sum` adds together values\n",
    "- `product` multiplies all values together\n",
    "- `mean` gives the average\n",
    "- `std` standard deviation\n",
    "- `max` the maximum value in the series\n",
    "- `min` min value\n",
    "- `median` returns value in middle of series (sort than mid length)\n",
    "- `mode` returns the value that occurs most\n",
    "- `describe` gives summary of mathematical values"
   ]
  },
  {
   "cell_type": "code",
   "execution_count": 6,
   "id": "434c991c-106e-4a11-90c2-04a38eaf2b7b",
   "metadata": {},
   "outputs": [
    {
     "data": {
      "text/plain": [
       "count    4793.000000\n",
       "mean       40.211377\n",
       "std        37.274753\n",
       "min         2.470490\n",
       "25%        12.767395\n",
       "50%        26.327717\n",
       "75%        56.311001\n",
       "max       151.863495\n",
       "Name: Price, dtype: float64"
      ]
     },
     "execution_count": 6,
     "metadata": {},
     "output_type": "execute_result"
    }
   ],
   "source": [
    "google.describe()"
   ]
  },
  {
   "cell_type": "markdown",
   "id": "e1c4009a-7396-405d-b11c-fec7dabfa60f",
   "metadata": {},
   "source": [
    "## Broadcasting\n",
    "- Apply a mathematical op to every value"
   ]
  },
  {
   "cell_type": "code",
   "execution_count": 8,
   "id": "84e0fd9d-b7ab-4e84-8167-a7b80d901531",
   "metadata": {},
   "outputs": [
    {
     "data": {
      "text/plain": [
       "0        12.490664\n",
       "1        12.515820\n",
       "2        12.758411\n",
       "3        12.770615\n",
       "4        12.614201\n",
       "           ...    \n",
       "4788    142.080002\n",
       "4789    142.998001\n",
       "4790    145.570007\n",
       "4791    147.050003\n",
       "4792    148.429993\n",
       "Name: Price, Length: 4793, dtype: float64"
      ]
     },
     "execution_count": 8,
     "metadata": {},
     "output_type": "execute_result"
    }
   ],
   "source": [
    "google.add(10)"
   ]
  },
  {
   "cell_type": "code",
   "execution_count": 10,
   "id": "999d86ef-9865-428e-ac4e-bf51fba60c11",
   "metadata": {},
   "outputs": [
    {
     "data": {
      "text/plain": [
       "0        12.490664\n",
       "1        12.515820\n",
       "2        12.758411\n",
       "3        12.770615\n",
       "4        12.614201\n",
       "           ...    \n",
       "4788    142.080002\n",
       "4789    142.998001\n",
       "4790    145.570007\n",
       "4791    147.050003\n",
       "4792    148.429993\n",
       "Name: Price, Length: 4793, dtype: float64"
      ]
     },
     "execution_count": 10,
     "metadata": {},
     "output_type": "execute_result"
    }
   ],
   "source": [
    "google + 10 # add 10 to every element also"
   ]
  },
  {
   "cell_type": "code",
   "execution_count": 11,
   "id": "26fbb4f3-c5bf-4a0b-a7d8-8c51c4f825f3",
   "metadata": {},
   "outputs": [
    {
     "data": {
      "text/plain": [
       "0         4.981328\n",
       "1         5.031640\n",
       "2         5.516822\n",
       "3         5.541230\n",
       "4         5.228402\n",
       "           ...    \n",
       "4788    264.160004\n",
       "4789    265.996002\n",
       "4790    271.140014\n",
       "4791    274.100006\n",
       "4792    276.859986\n",
       "Name: Price, Length: 4793, dtype: float64"
      ]
     },
     "execution_count": 11,
     "metadata": {},
     "output_type": "execute_result"
    }
   ],
   "source": [
    "google * 2"
   ]
  },
  {
   "cell_type": "markdown",
   "id": "f55d59d8-110e-4903-a6e6-012fcfa2450f",
   "metadata": {},
   "source": [
    "## The value_counts Method\n",
    "- returns the number of times each unique value occurs in the `Series`\n",
    "- normalize param returns the relative frequencies/percentage of the values instead of counts"
   ]
  },
  {
   "cell_type": "code",
   "execution_count": 14,
   "id": "194d922a-45a5-492a-aa3b-c45ca0a97ffa",
   "metadata": {},
   "outputs": [
    {
     "data": {
      "text/plain": [
       "Type\n",
       "Water               74\n",
       "Normal              74\n",
       "Grass               46\n",
       "Psychic             39\n",
       "Fire                36\n",
       "                    ..\n",
       "Rock, Electric       1\n",
       "Dark, Ground         1\n",
       "Dragon, Dark         1\n",
       "Fairy, Fighting      1\n",
       "Fighting, Dragon     1\n",
       "Name: count, Length: 200, dtype: int64"
      ]
     },
     "execution_count": 14,
     "metadata": {},
     "output_type": "execute_result"
    }
   ],
   "source": [
    "pokemon_full_series.value_counts()"
   ]
  },
  {
   "cell_type": "code",
   "execution_count": 19,
   "id": "24e44396-8c12-46c8-a6a5-2009c341ef05",
   "metadata": {},
   "outputs": [
    {
     "data": {
      "text/plain": [
       "Type\n",
       "Water               7.326733\n",
       "Normal              7.326733\n",
       "Grass               4.554455\n",
       "Psychic             3.861386\n",
       "Fire                3.564356\n",
       "                      ...   \n",
       "Rock, Electric      0.099010\n",
       "Dark, Ground        0.099010\n",
       "Dragon, Dark        0.099010\n",
       "Fairy, Fighting     0.099010\n",
       "Fighting, Dragon    0.099010\n",
       "Name: proportion, Length: 200, dtype: float64"
      ]
     },
     "execution_count": 19,
     "metadata": {},
     "output_type": "execute_result"
    }
   ],
   "source": [
    "pokemon_full_series.value_counts(normalize=True) * 100"
   ]
  },
  {
   "cell_type": "markdown",
   "id": "22e7aebc-bfa8-47a6-83f9-290b83d330ec",
   "metadata": {},
   "source": [
    "## The apply Method\n",
    "- the apply method is like a map on every `Series` value\n",
    "  "
   ]
  },
  {
   "cell_type": "code",
   "execution_count": 26,
   "id": "b449f168-707e-43df-bd05-d6c0366b143e",
   "metadata": {},
   "outputs": [
    {
     "data": {
      "text/plain": [
       "0     Bulbasaur\n",
       "1       Ivysaur\n",
       "2      Venusaur\n",
       "3    Charmander\n",
       "4    Charmeleon\n",
       "Name: Name, dtype: object"
      ]
     },
     "execution_count": 26,
     "metadata": {},
     "output_type": "execute_result"
    }
   ],
   "source": [
    "pokemon.head()"
   ]
  },
  {
   "cell_type": "code",
   "execution_count": 27,
   "id": "d157cf8f-3c31-4e60-a41b-45e479a3ffde",
   "metadata": {},
   "outputs": [
    {
     "data": {
      "text/plain": [
       "0          bulbasaur\n",
       "1            ivysaur\n",
       "2           venusaur\n",
       "3         charmander\n",
       "4         charmeleon\n",
       "            ...     \n",
       "1005    iron valiant\n",
       "1006        koraidon\n",
       "1007        miraidon\n",
       "1008    walking wake\n",
       "1009     iron leaves\n",
       "Name: Name, Length: 1010, dtype: object"
      ]
     },
     "execution_count": 27,
     "metadata": {},
     "output_type": "execute_result"
    }
   ],
   "source": [
    "pokemon.apply(lambda poke: poke.lower())"
   ]
  },
  {
   "cell_type": "markdown",
   "id": "3261e5b2-4cd5-4d89-b8bc-7b734e6f54f6",
   "metadata": {},
   "source": [
    "## The map Method\n",
    "- Only works on series aka 1d data types\n",
    "- can apply a function or you can put in a dict or series for how to substitute values\n",
    "- used to replace every value with some translated value"
   ]
  },
  {
   "cell_type": "code",
   "execution_count": 30,
   "id": "7b97318b-74f8-4e50-805b-be6d0b4291bf",
   "metadata": {},
   "outputs": [],
   "source": [
    "attack_powers = {\n",
    "    \"Grass\": 10,\n",
    "    \"Fire\": 15,\n",
    "    \"Water\": 15,\n",
    "    \"Fairy, Fighting\": 20,\n",
    "    \"Grass, Psychic\": 50\n",
    "}"
   ]
  },
  {
   "cell_type": "code",
   "execution_count": 32,
   "id": "d25a4e84-9e2d-49b3-9f1a-9322f8a286fb",
   "metadata": {},
   "outputs": [
    {
     "data": {
      "text/plain": [
       "Name\n",
       "Bulbasaur        NaN\n",
       "Ivysaur          NaN\n",
       "Venusaur         NaN\n",
       "Charmander      15.0\n",
       "Charmeleon      15.0\n",
       "                ... \n",
       "Iron Valiant    20.0\n",
       "Koraidon         NaN\n",
       "Miraidon         NaN\n",
       "Walking Wake     NaN\n",
       "Iron Leaves     50.0\n",
       "Name: Type, Length: 1010, dtype: float64"
      ]
     },
     "execution_count": 32,
     "metadata": {},
     "output_type": "execute_result"
    }
   ],
   "source": [
    "pokemon_full_series.map(attack_powers) # When can't find a key does not a number"
   ]
  },
  {
   "cell_type": "code",
   "execution_count": 33,
   "id": "3d5d8788-a67d-4935-8932-dbabcd015994",
   "metadata": {},
   "outputs": [],
   "source": [
    "attack_powers_series = pd.Series(attack_powers)"
   ]
  },
  {
   "cell_type": "code",
   "execution_count": 34,
   "id": "638fd08f-1619-458c-a318-5637ad2132ff",
   "metadata": {},
   "outputs": [
    {
     "data": {
      "text/plain": [
       "Name\n",
       "Bulbasaur        NaN\n",
       "Ivysaur          NaN\n",
       "Venusaur         NaN\n",
       "Charmander      15.0\n",
       "Charmeleon      15.0\n",
       "                ... \n",
       "Iron Valiant    20.0\n",
       "Koraidon         NaN\n",
       "Miraidon         NaN\n",
       "Walking Wake     NaN\n",
       "Iron Leaves     50.0\n",
       "Name: Type, Length: 1010, dtype: float64"
      ]
     },
     "execution_count": 34,
     "metadata": {},
     "output_type": "execute_result"
    }
   ],
   "source": [
    "pokemon_full_series.map(attack_powers_series)"
   ]
  }
 ],
 "metadata": {
  "kernelspec": {
   "display_name": "myenv",
   "language": "python",
   "name": "myenv"
  },
  "language_info": {
   "codemirror_mode": {
    "name": "ipython",
    "version": 3
   },
   "file_extension": ".py",
   "mimetype": "text/x-python",
   "name": "python",
   "nbconvert_exporter": "python",
   "pygments_lexer": "ipython3",
   "version": "3.13.1"
  }
 },
 "nbformat": 4,
 "nbformat_minor": 5
}
